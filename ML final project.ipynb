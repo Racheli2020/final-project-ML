{
 "cells": [
  {
   "cell_type": "code",
   "execution_count": 1,
   "id": "a6067331",
   "metadata": {},
   "outputs": [],
   "source": [
    "from sklearn.model_selection import train_test_split\n",
    "from sklearn.tree import DecisionTreeClassifier\n",
    "from sklearn.metrics import accuracy_score\n",
    "from sklearn.cluster import KMeans\n",
    "import numpy as np\n",
    "from sklearn.datasets import make_regression\n",
    "from sklearn.model_selection import train_test_split\n",
    "from sklearn.svm import SVR\n",
    "from sklearn.metrics import mean_squared_error\n",
    "import matplotlib.pyplot as plt\n",
    "from sklearn.datasets import make_regression\n",
    "from sklearn.model_selection import train_test_split\n",
    "from sklearn.tree import DecisionTreeRegressor\n",
    "from sklearn.neural_network import MLPRegressor\n",
    "from sklearn.linear_model import LinearRegression, LogisticRegression\n",
    "from sklearn.metrics import mean_squared_error\n",
    "import tensorflow as tf\n",
    "from tensorflow.keras.models import Sequential\n",
    "from tensorflow.keras.layers import Dense\n",
    "from sklearn.model_selection import train_test_split\n",
    "from sklearn.svm import SVC\n",
    "from sklearn.metrics import accuracy_score\n",
    "from sklearn.cluster import DBSCAN\n",
    "#עבדתי על הפרויקט במשך זמן אז לא זכרתי אם ייבאתי ספריה או לא, לכן ספריות יחזרו על עצמן במהלך הקוד"
   ]
  },
  {
   "cell_type": "code",
   "execution_count": 2,
   "id": "2383e624",
   "metadata": {
    "scrolled": false
   },
   "outputs": [
    {
     "name": "stdout",
     "output_type": "stream",
     "text": [
      "                     sid                                    id  position  \\\n",
      "0     row-w827~7pqh.6pmz  00000000-0000-0000-5E28-A04BEEC307E6         0   \n",
      "1     row-dbc3~9qru-zrke  00000000-0000-0000-4146-84E76CCE37DB         0   \n",
      "2     row-e45d_9ih7-kz4v  00000000-0000-0000-1F46-460A3286E027         0   \n",
      "3     row-p6ge_s68d~4hva  00000000-0000-0000-59E5-3F2AE6A09B3B         0   \n",
      "4     row-fkay~ywqs-e47j  00000000-0000-0000-415B-379E4FE4D3DB         0   \n",
      "...                  ...                                   ...       ...   \n",
      "4840  row-i36c.whdg.5mer  00000000-0000-0000-9254-3ED09B06F073         0   \n",
      "4841  row-edrq.v56t~mszr  00000000-0000-0000-93AF-EE0F3C09DEE9         0   \n",
      "4842  row-hcxm.g7sm_cey5  00000000-0000-0000-A784-F8E971A8B9EA         0   \n",
      "4843  row-x6ae~bqme~tzza  00000000-0000-0000-0440-20402F7ED4BA         0   \n",
      "4844  row-y8su.x2vf.fv6m  00000000-0000-0000-095B-58382ACBFAD6         0   \n",
      "\n",
      "      created_at created_meta  updated_at updated_meta meta State FIPS code  \\\n",
      "0     1712143811         None  1712143811         None  { }             900   \n",
      "1     1712143811         None  1712143811         None  { }            2500   \n",
      "2     1712143811         None  1712143811         None  { }            3400   \n",
      "3     1712143811         None  1712143811         None  { }            3600   \n",
      "4     1712143811         None  1712143811         None  { }            4400   \n",
      "...          ...          ...         ...          ...  ...             ...   \n",
      "4840  1712143811         None  1712143811         None  { }             900   \n",
      "4841  1712143811         None  1712143811         None  { }            2500   \n",
      "4842  1712143811         None  1712143811         None  { }            3400   \n",
      "4843  1712143811         None  1712143811         None  { }            3600   \n",
      "4844  1712143811         None  1712143811         None  { }            4400   \n",
      "\n",
      "                     Date All merchant category codes spending  \\\n",
      "0     2020-01-13T00:00:00                                 -2.3   \n",
      "1     2020-01-13T00:00:00                               -0.212   \n",
      "2     2020-01-13T00:00:00                               -0.561   \n",
      "3     2020-01-13T00:00:00                               -0.381   \n",
      "4     2020-01-13T00:00:00                                -1.85   \n",
      "...                   ...                                  ...   \n",
      "4840  2024-03-24T00:00:00                                 27.9   \n",
      "4841  2024-03-24T00:00:00                                 26.2   \n",
      "4842  2024-03-24T00:00:00                                 38.3   \n",
      "4843  2024-03-24T00:00:00                                 25.7   \n",
      "4844  2024-03-24T00:00:00                                 23.8   \n",
      "\n",
      "     Accommodation and food service (ACF) spending  \\\n",
      "0                                            -6.04   \n",
      "1                                            -2.41   \n",
      "2                                            -3.86   \n",
      "3                                            -3.64   \n",
      "4                                              -15   \n",
      "...                                            ...   \n",
      "4840                                          21.8   \n",
      "4841                                          19.4   \n",
      "4842                                          26.7   \n",
      "4843                                          12.5   \n",
      "4844                                          16.7   \n",
      "\n",
      "     Arts, entertainment, and recreation (AER)  spending  \\\n",
      "0                                                 -12.3    \n",
      "1                                                   -14    \n",
      "2                                                 -11.6    \n",
      "3                                                 -13.9    \n",
      "4                                                 -19.1    \n",
      "...                                                 ...    \n",
      "4840                                               20.6    \n",
      "4841                                               71.9    \n",
      "4842                                               66.3    \n",
      "4843                                                 46    \n",
      "4844                                               38.7    \n",
      "\n",
      "     General merchandise stores (GEN) and apparel and accessories (AAP) spending  \\\n",
      "0                                                 -5.39                            \n",
      "1                                                 -2.29                            \n",
      "2                                                 0.653                            \n",
      "3                                                 -1.45                            \n",
      "4                                                 -5.96                            \n",
      "...                                                 ...                            \n",
      "4840                                               34.3                            \n",
      "4841                                               27.2                            \n",
      "4842                                               49.6                            \n",
      "4843                                                 32                            \n",
      "4844                                               24.6                            \n",
      "\n",
      "     Grocery and food store (GRF)  spending  \\\n",
      "0                                     -3.47   \n",
      "1                                     0.373   \n",
      "2                                    -0.622   \n",
      "3                                     -0.89   \n",
      "4                                    -0.105   \n",
      "...                                     ...   \n",
      "4840                                   38.4   \n",
      "4841                                   27.7   \n",
      "4842                                   18.8   \n",
      "4843                                   21.1   \n",
      "4844                                   27.3   \n",
      "\n",
      "     Health care and social assistance (HCS) spending   \\\n",
      "0                                                -3.17   \n",
      "1                                                 3.61   \n",
      "2                                                 4.78   \n",
      "3                                                 7.92   \n",
      "4                                                 1.24   \n",
      "...                                                ...   \n",
      "4840                                              21.8   \n",
      "4841                                              53.3   \n",
      "4842                                              58.2   \n",
      "4843                                              41.4   \n",
      "4844                                             -30.5   \n",
      "\n",
      "     Transportation and warehousing (TWS)  spending  \\\n",
      "0                                             -2.55   \n",
      "1                                             -1.74   \n",
      "2                                              1.23   \n",
      "3                                            -0.111   \n",
      "4                                             -31.2   \n",
      "...                                             ...   \n",
      "4840                                           10.9   \n",
      "4841                                             13   \n",
      "4842                                           55.7   \n",
      "4843                                           12.9   \n",
      "4844                                           33.2   \n",
      "\n",
      "     Retail spending, including grocery  (AAP, CEC, GEN, GRF, HIC, ETC, SGH)   \\\n",
      "0                                                 -3.57                         \n",
      "1                                                 0.358                         \n",
      "2                                                 0.227                         \n",
      "3                                                -0.563                         \n",
      "4                                                 -4.51                         \n",
      "...                                                 ...                         \n",
      "4840                                               29.3                         \n",
      "4841                                                 22                         \n",
      "4842                                               32.4                         \n",
      "4843                                               22.7                         \n",
      "4844                                               37.9                         \n",
      "\n",
      "     Retail spending, excluding grocery ((AAP, CEC, GEN, HIC, ETC, SGH)   \n",
      "0                                                 -3.69                   \n",
      "1                                                 0.259                   \n",
      "2                                                  1.09                   \n",
      "3                                                -0.281                   \n",
      "4                                                 -9.52                   \n",
      "...                                                 ...                   \n",
      "4840                                               23.6                   \n",
      "4841                                               16.5                   \n",
      "4842                                               44.3                   \n",
      "4843                                                 24                   \n",
      "4844                                               47.4                   \n",
      "\n",
      "[4845 rows x 19 columns]\n"
     ]
    }
   ],
   "source": [
    "import requests\n",
    "import pandas as pd\n",
    "# הגדרת כתובת ה-URL שבה נמצא הקובץ JSON\n",
    "url = \"https://data.ct.gov/api/views/xpjq-6wxn/rows.json?accessType=DOWNLOAD\"\n",
    "\n",
    "# שליפת הנתונים\n",
    "response = requests.get(url)\n",
    "data = response.json()\n",
    "\n",
    "# שליפת הטבלה מהנתונים והמרתה למבנה \n",
    "table = pd.DataFrame(data[\"data\"], columns=[item[\"name\"] for item in data[\"meta\"][\"view\"][\"columns\"]])\n",
    "\n",
    "print(table)\n"
   ]
  },
  {
   "cell_type": "code",
   "execution_count": 3,
   "id": "72014b4d",
   "metadata": {},
   "outputs": [
    {
     "data": {
      "text/html": [
       "<div>\n",
       "<style scoped>\n",
       "    .dataframe tbody tr th:only-of-type {\n",
       "        vertical-align: middle;\n",
       "    }\n",
       "\n",
       "    .dataframe tbody tr th {\n",
       "        vertical-align: top;\n",
       "    }\n",
       "\n",
       "    .dataframe thead th {\n",
       "        text-align: right;\n",
       "    }\n",
       "</style>\n",
       "<table border=\"1\" class=\"dataframe\">\n",
       "  <thead>\n",
       "    <tr style=\"text-align: right;\">\n",
       "      <th></th>\n",
       "      <th>sid</th>\n",
       "      <th>id</th>\n",
       "      <th>position</th>\n",
       "      <th>created_at</th>\n",
       "      <th>created_meta</th>\n",
       "      <th>updated_at</th>\n",
       "      <th>updated_meta</th>\n",
       "      <th>meta</th>\n",
       "      <th>State FIPS code</th>\n",
       "      <th>Date</th>\n",
       "      <th>All merchant category codes spending</th>\n",
       "      <th>Accommodation and food service (ACF) spending</th>\n",
       "      <th>Arts, entertainment, and recreation (AER)  spending</th>\n",
       "      <th>General merchandise stores (GEN) and apparel and accessories (AAP) spending</th>\n",
       "      <th>Grocery and food store (GRF)  spending</th>\n",
       "      <th>Health care and social assistance (HCS) spending</th>\n",
       "      <th>Transportation and warehousing (TWS)  spending</th>\n",
       "      <th>Retail spending, including grocery  (AAP, CEC, GEN, GRF, HIC, ETC, SGH)</th>\n",
       "      <th>Retail spending, excluding grocery ((AAP, CEC, GEN, HIC, ETC, SGH)</th>\n",
       "    </tr>\n",
       "  </thead>\n",
       "  <tbody>\n",
       "    <tr>\n",
       "      <th>0</th>\n",
       "      <td>row-w827~7pqh.6pmz</td>\n",
       "      <td>00000000-0000-0000-5E28-A04BEEC307E6</td>\n",
       "      <td>0</td>\n",
       "      <td>1712143811</td>\n",
       "      <td>None</td>\n",
       "      <td>1712143811</td>\n",
       "      <td>None</td>\n",
       "      <td>{ }</td>\n",
       "      <td>900</td>\n",
       "      <td>2020-01-13T00:00:00</td>\n",
       "      <td>-2.3</td>\n",
       "      <td>-6.04</td>\n",
       "      <td>-12.3</td>\n",
       "      <td>-5.39</td>\n",
       "      <td>-3.47</td>\n",
       "      <td>-3.17</td>\n",
       "      <td>-2.55</td>\n",
       "      <td>-3.57</td>\n",
       "      <td>-3.69</td>\n",
       "    </tr>\n",
       "    <tr>\n",
       "      <th>1</th>\n",
       "      <td>row-dbc3~9qru-zrke</td>\n",
       "      <td>00000000-0000-0000-4146-84E76CCE37DB</td>\n",
       "      <td>0</td>\n",
       "      <td>1712143811</td>\n",
       "      <td>None</td>\n",
       "      <td>1712143811</td>\n",
       "      <td>None</td>\n",
       "      <td>{ }</td>\n",
       "      <td>2500</td>\n",
       "      <td>2020-01-13T00:00:00</td>\n",
       "      <td>-0.212</td>\n",
       "      <td>-2.41</td>\n",
       "      <td>-14</td>\n",
       "      <td>-2.29</td>\n",
       "      <td>0.373</td>\n",
       "      <td>3.61</td>\n",
       "      <td>-1.74</td>\n",
       "      <td>0.358</td>\n",
       "      <td>0.259</td>\n",
       "    </tr>\n",
       "    <tr>\n",
       "      <th>2</th>\n",
       "      <td>row-e45d_9ih7-kz4v</td>\n",
       "      <td>00000000-0000-0000-1F46-460A3286E027</td>\n",
       "      <td>0</td>\n",
       "      <td>1712143811</td>\n",
       "      <td>None</td>\n",
       "      <td>1712143811</td>\n",
       "      <td>None</td>\n",
       "      <td>{ }</td>\n",
       "      <td>3400</td>\n",
       "      <td>2020-01-13T00:00:00</td>\n",
       "      <td>-0.561</td>\n",
       "      <td>-3.86</td>\n",
       "      <td>-11.6</td>\n",
       "      <td>0.653</td>\n",
       "      <td>-0.622</td>\n",
       "      <td>4.78</td>\n",
       "      <td>1.23</td>\n",
       "      <td>0.227</td>\n",
       "      <td>1.09</td>\n",
       "    </tr>\n",
       "    <tr>\n",
       "      <th>3</th>\n",
       "      <td>row-p6ge_s68d~4hva</td>\n",
       "      <td>00000000-0000-0000-59E5-3F2AE6A09B3B</td>\n",
       "      <td>0</td>\n",
       "      <td>1712143811</td>\n",
       "      <td>None</td>\n",
       "      <td>1712143811</td>\n",
       "      <td>None</td>\n",
       "      <td>{ }</td>\n",
       "      <td>3600</td>\n",
       "      <td>2020-01-13T00:00:00</td>\n",
       "      <td>-0.381</td>\n",
       "      <td>-3.64</td>\n",
       "      <td>-13.9</td>\n",
       "      <td>-1.45</td>\n",
       "      <td>-0.89</td>\n",
       "      <td>7.92</td>\n",
       "      <td>-0.111</td>\n",
       "      <td>-0.563</td>\n",
       "      <td>-0.281</td>\n",
       "    </tr>\n",
       "    <tr>\n",
       "      <th>4</th>\n",
       "      <td>row-fkay~ywqs-e47j</td>\n",
       "      <td>00000000-0000-0000-415B-379E4FE4D3DB</td>\n",
       "      <td>0</td>\n",
       "      <td>1712143811</td>\n",
       "      <td>None</td>\n",
       "      <td>1712143811</td>\n",
       "      <td>None</td>\n",
       "      <td>{ }</td>\n",
       "      <td>4400</td>\n",
       "      <td>2020-01-13T00:00:00</td>\n",
       "      <td>-1.85</td>\n",
       "      <td>-15</td>\n",
       "      <td>-19.1</td>\n",
       "      <td>-5.96</td>\n",
       "      <td>-0.105</td>\n",
       "      <td>1.24</td>\n",
       "      <td>-31.2</td>\n",
       "      <td>-4.51</td>\n",
       "      <td>-9.52</td>\n",
       "    </tr>\n",
       "  </tbody>\n",
       "</table>\n",
       "</div>"
      ],
      "text/plain": [
       "                  sid                                    id  position  \\\n",
       "0  row-w827~7pqh.6pmz  00000000-0000-0000-5E28-A04BEEC307E6         0   \n",
       "1  row-dbc3~9qru-zrke  00000000-0000-0000-4146-84E76CCE37DB         0   \n",
       "2  row-e45d_9ih7-kz4v  00000000-0000-0000-1F46-460A3286E027         0   \n",
       "3  row-p6ge_s68d~4hva  00000000-0000-0000-59E5-3F2AE6A09B3B         0   \n",
       "4  row-fkay~ywqs-e47j  00000000-0000-0000-415B-379E4FE4D3DB         0   \n",
       "\n",
       "   created_at created_meta  updated_at updated_meta meta State FIPS code  \\\n",
       "0  1712143811         None  1712143811         None  { }             900   \n",
       "1  1712143811         None  1712143811         None  { }            2500   \n",
       "2  1712143811         None  1712143811         None  { }            3400   \n",
       "3  1712143811         None  1712143811         None  { }            3600   \n",
       "4  1712143811         None  1712143811         None  { }            4400   \n",
       "\n",
       "                  Date All merchant category codes spending  \\\n",
       "0  2020-01-13T00:00:00                                 -2.3   \n",
       "1  2020-01-13T00:00:00                               -0.212   \n",
       "2  2020-01-13T00:00:00                               -0.561   \n",
       "3  2020-01-13T00:00:00                               -0.381   \n",
       "4  2020-01-13T00:00:00                                -1.85   \n",
       "\n",
       "  Accommodation and food service (ACF) spending  \\\n",
       "0                                         -6.04   \n",
       "1                                         -2.41   \n",
       "2                                         -3.86   \n",
       "3                                         -3.64   \n",
       "4                                           -15   \n",
       "\n",
       "  Arts, entertainment, and recreation (AER)  spending  \\\n",
       "0                                              -12.3    \n",
       "1                                                -14    \n",
       "2                                              -11.6    \n",
       "3                                              -13.9    \n",
       "4                                              -19.1    \n",
       "\n",
       "  General merchandise stores (GEN) and apparel and accessories (AAP) spending  \\\n",
       "0                                              -5.39                            \n",
       "1                                              -2.29                            \n",
       "2                                              0.653                            \n",
       "3                                              -1.45                            \n",
       "4                                              -5.96                            \n",
       "\n",
       "  Grocery and food store (GRF)  spending  \\\n",
       "0                                  -3.47   \n",
       "1                                  0.373   \n",
       "2                                 -0.622   \n",
       "3                                  -0.89   \n",
       "4                                 -0.105   \n",
       "\n",
       "  Health care and social assistance (HCS) spending   \\\n",
       "0                                             -3.17   \n",
       "1                                              3.61   \n",
       "2                                              4.78   \n",
       "3                                              7.92   \n",
       "4                                              1.24   \n",
       "\n",
       "  Transportation and warehousing (TWS)  spending  \\\n",
       "0                                          -2.55   \n",
       "1                                          -1.74   \n",
       "2                                           1.23   \n",
       "3                                         -0.111   \n",
       "4                                          -31.2   \n",
       "\n",
       "  Retail spending, including grocery  (AAP, CEC, GEN, GRF, HIC, ETC, SGH)   \\\n",
       "0                                              -3.57                         \n",
       "1                                              0.358                         \n",
       "2                                              0.227                         \n",
       "3                                             -0.563                         \n",
       "4                                              -4.51                         \n",
       "\n",
       "  Retail spending, excluding grocery ((AAP, CEC, GEN, HIC, ETC, SGH)   \n",
       "0                                              -3.69                   \n",
       "1                                              0.259                   \n",
       "2                                               1.09                   \n",
       "3                                             -0.281                   \n",
       "4                                              -9.52                   "
      ]
     },
     "execution_count": 3,
     "metadata": {},
     "output_type": "execute_result"
    }
   ],
   "source": [
    "table = table.copy()\n",
    "table.head()"
   ]
  },
  {
   "cell_type": "code",
   "execution_count": 4,
   "id": "1796960b",
   "metadata": {},
   "outputs": [
    {
     "data": {
      "text/plain": [
       "4845"
      ]
     },
     "execution_count": 4,
     "metadata": {},
     "output_type": "execute_result"
    }
   ],
   "source": [
    "len(table['sid'].unique())\n",
    "\n"
   ]
  },
  {
   "cell_type": "code",
   "execution_count": 5,
   "id": "dbd3e90b",
   "metadata": {},
   "outputs": [
    {
     "data": {
      "text/plain": [
       "4845"
      ]
     },
     "execution_count": 5,
     "metadata": {},
     "output_type": "execute_result"
    }
   ],
   "source": [
    "len(table['id'].unique())\n"
   ]
  },
  {
   "cell_type": "code",
   "execution_count": 6,
   "id": "1addc15d",
   "metadata": {},
   "outputs": [
    {
     "data": {
      "text/plain": [
       "array([1712143811], dtype=int64)"
      ]
     },
     "execution_count": 6,
     "metadata": {},
     "output_type": "execute_result"
    }
   ],
   "source": [
    "table['created_at'].unique()\n"
   ]
  },
  {
   "cell_type": "code",
   "execution_count": 7,
   "id": "bff6063e",
   "metadata": {},
   "outputs": [
    {
     "data": {
      "text/plain": [
       "array([1712143811], dtype=int64)"
      ]
     },
     "execution_count": 7,
     "metadata": {},
     "output_type": "execute_result"
    }
   ],
   "source": [
    "table['updated_at'].unique()\n"
   ]
  },
  {
   "cell_type": "code",
   "execution_count": 8,
   "id": "ce11a32b",
   "metadata": {},
   "outputs": [
    {
     "data": {
      "text/plain": [
       "array(['{ }'], dtype=object)"
      ]
     },
     "execution_count": 8,
     "metadata": {},
     "output_type": "execute_result"
    }
   ],
   "source": [
    "table['meta'].unique()\n"
   ]
  },
  {
   "cell_type": "code",
   "execution_count": 9,
   "id": "aa092f22",
   "metadata": {},
   "outputs": [],
   "source": [
    "#ניתן לראות ש2 העמודות מביאות ערך זהה ובודד ולכן מיותרות לפרויקט"
   ]
  },
  {
   "cell_type": "code",
   "execution_count": 10,
   "id": "1dc33c99",
   "metadata": {},
   "outputs": [
    {
     "name": "stdout",
     "output_type": "stream",
     "text": [
      "0       0\n",
      "1       0\n",
      "2       0\n",
      "3       0\n",
      "4       0\n",
      "       ..\n",
      "4840    0\n",
      "4841    0\n",
      "4842    0\n",
      "4843    0\n",
      "4844    0\n",
      "Name: position, Length: 4845, dtype: int64\n"
     ]
    }
   ],
   "source": [
    "print(table['position'])\n"
   ]
  },
  {
   "cell_type": "markdown",
   "id": "69d60af9",
   "metadata": {},
   "source": [
    "נבדוק אם הערך בעמודה מכיל גם 1 או רק ערכים של 0"
   ]
  },
  {
   "cell_type": "code",
   "execution_count": 11,
   "id": "51e0e4f4",
   "metadata": {},
   "outputs": [
    {
     "name": "stdout",
     "output_type": "stream",
     "text": [
      "False\n"
     ]
    }
   ],
   "source": [
    "print(1 in table['position'].values)\n"
   ]
  },
  {
   "cell_type": "code",
   "execution_count": null,
   "id": "dac747db",
   "metadata": {},
   "outputs": [],
   "source": []
  },
  {
   "cell_type": "code",
   "execution_count": 12,
   "id": "53bd00d1",
   "metadata": {},
   "outputs": [
    {
     "name": "stdout",
     "output_type": "stream",
     "text": [
      "Index(['sid', 'id', 'position', 'created_at', 'created_meta', 'updated_at',\n",
      "       'updated_meta', 'meta', 'State FIPS code', 'Date',\n",
      "       'All merchant category codes spending',\n",
      "       'Accommodation and food service (ACF) spending',\n",
      "       'Arts, entertainment, and recreation (AER)  spending',\n",
      "       'General merchandise stores (GEN) and apparel and accessories (AAP) spending',\n",
      "       'Grocery and food store (GRF)  spending',\n",
      "       'Health care and social assistance (HCS) spending ',\n",
      "       'Transportation and warehousing (TWS)  spending',\n",
      "       'Retail spending, including grocery  (AAP, CEC, GEN, GRF, HIC, ETC, SGH) ',\n",
      "       'Retail spending, excluding grocery ((AAP, CEC, GEN, HIC, ETC, SGH) '],\n",
      "      dtype='object')\n"
     ]
    }
   ],
   "source": [
    "print(table.columns)\n"
   ]
  },
  {
   "cell_type": "code",
   "execution_count": null,
   "id": "b654e265",
   "metadata": {},
   "outputs": [],
   "source": []
  },
  {
   "cell_type": "code",
   "execution_count": 13,
   "id": "8dcedb1f",
   "metadata": {},
   "outputs": [
    {
     "name": "stdout",
     "output_type": "stream",
     "text": [
      "<class 'pandas.core.frame.DataFrame'>\n",
      "RangeIndex: 4845 entries, 0 to 4844\n",
      "Data columns (total 19 columns):\n",
      " #   Column                                                                       Non-Null Count  Dtype \n",
      "---  ------                                                                       --------------  ----- \n",
      " 0   sid                                                                          4845 non-null   object\n",
      " 1   id                                                                           4845 non-null   object\n",
      " 2   position                                                                     4845 non-null   int64 \n",
      " 3   created_at                                                                   4845 non-null   int64 \n",
      " 4   created_meta                                                                 0 non-null      object\n",
      " 5   updated_at                                                                   4845 non-null   int64 \n",
      " 6   updated_meta                                                                 0 non-null      object\n",
      " 7   meta                                                                         4845 non-null   object\n",
      " 8   State FIPS code                                                              4845 non-null   object\n",
      " 9   Date                                                                         4845 non-null   object\n",
      " 10  All merchant category codes spending                                         4845 non-null   object\n",
      " 11  Accommodation and food service (ACF) spending                                4845 non-null   object\n",
      " 12  Arts, entertainment, and recreation (AER)  spending                          4845 non-null   object\n",
      " 13  General merchandise stores (GEN) and apparel and accessories (AAP) spending  4845 non-null   object\n",
      " 14  Grocery and food store (GRF)  spending                                       4845 non-null   object\n",
      " 15  Health care and social assistance (HCS) spending                             4845 non-null   object\n",
      " 16  Transportation and warehousing (TWS)  spending                               4845 non-null   object\n",
      " 17  Retail spending, including grocery  (AAP, CEC, GEN, GRF, HIC, ETC, SGH)      4845 non-null   object\n",
      " 18  Retail spending, excluding grocery ((AAP, CEC, GEN, HIC, ETC, SGH)           4845 non-null   object\n",
      "dtypes: int64(3), object(16)\n",
      "memory usage: 719.3+ KB\n"
     ]
    }
   ],
   "source": [
    "table.info()\n"
   ]
  },
  {
   "cell_type": "code",
   "execution_count": 14,
   "id": "78cb053c",
   "metadata": {},
   "outputs": [],
   "source": [
    "#לפי הנתונים 2 עמודות מיותרות ולא מועילות לפרויקט"
   ]
  },
  {
   "cell_type": "code",
   "execution_count": null,
   "id": "47a474ae",
   "metadata": {},
   "outputs": [],
   "source": [
    "\n"
   ]
  },
  {
   "cell_type": "code",
   "execution_count": 15,
   "id": "3f439162",
   "metadata": {},
   "outputs": [
    {
     "name": "stdout",
     "output_type": "stream",
     "text": [
      "                     sid                                    id  position  \\\n",
      "0     row-w827~7pqh.6pmz  00000000-0000-0000-5E28-A04BEEC307E6       NaN   \n",
      "1     row-dbc3~9qru-zrke  00000000-0000-0000-4146-84E76CCE37DB       NaN   \n",
      "2     row-e45d_9ih7-kz4v  00000000-0000-0000-1F46-460A3286E027       NaN   \n",
      "3     row-p6ge_s68d~4hva  00000000-0000-0000-59E5-3F2AE6A09B3B       NaN   \n",
      "4     row-fkay~ywqs-e47j  00000000-0000-0000-415B-379E4FE4D3DB       NaN   \n",
      "...                  ...                                   ...       ...   \n",
      "4840  row-i36c.whdg.5mer  00000000-0000-0000-9254-3ED09B06F073       NaN   \n",
      "4841  row-edrq.v56t~mszr  00000000-0000-0000-93AF-EE0F3C09DEE9       NaN   \n",
      "4842  row-hcxm.g7sm_cey5  00000000-0000-0000-A784-F8E971A8B9EA       NaN   \n",
      "4843  row-x6ae~bqme~tzza  00000000-0000-0000-0440-20402F7ED4BA       NaN   \n",
      "4844  row-y8su.x2vf.fv6m  00000000-0000-0000-095B-58382ACBFAD6       NaN   \n",
      "\n",
      "      created_at created_meta  updated_at updated_meta meta  State FIPS code  \\\n",
      "0            NaN         None         NaN         None  { }        -1.724653   \n",
      "1            NaN         None         NaN         None  { }        -0.385117   \n",
      "2            NaN         None         NaN         None  { }         0.368372   \n",
      "3            NaN         None         NaN         None  { }         0.535815   \n",
      "4            NaN         None         NaN         None  { }         1.205583   \n",
      "...          ...          ...         ...          ...  ...              ...   \n",
      "4840         NaN         None         NaN         None  { }        -1.724653   \n",
      "4841         NaN         None         NaN         None  { }        -0.385117   \n",
      "4842         NaN         None         NaN         None  { }         0.368372   \n",
      "4843         NaN         None         NaN         None  { }         0.535815   \n",
      "4844         NaN         None         NaN         None  { }         1.205583   \n",
      "\n",
      "                     Date All merchant category codes spending  \\\n",
      "0     2020-01-13T00:00:00                                 -2.3   \n",
      "1     2020-01-13T00:00:00                               -0.212   \n",
      "2     2020-01-13T00:00:00                               -0.561   \n",
      "3     2020-01-13T00:00:00                               -0.381   \n",
      "4     2020-01-13T00:00:00                                -1.85   \n",
      "...                   ...                                  ...   \n",
      "4840  2024-03-24T00:00:00                                 27.9   \n",
      "4841  2024-03-24T00:00:00                                 26.2   \n",
      "4842  2024-03-24T00:00:00                                 38.3   \n",
      "4843  2024-03-24T00:00:00                                 25.7   \n",
      "4844  2024-03-24T00:00:00                                 23.8   \n",
      "\n",
      "     Accommodation and food service (ACF) spending  \\\n",
      "0                                            -6.04   \n",
      "1                                            -2.41   \n",
      "2                                            -3.86   \n",
      "3                                            -3.64   \n",
      "4                                              -15   \n",
      "...                                            ...   \n",
      "4840                                          21.8   \n",
      "4841                                          19.4   \n",
      "4842                                          26.7   \n",
      "4843                                          12.5   \n",
      "4844                                          16.7   \n",
      "\n",
      "     Arts, entertainment, and recreation (AER)  spending  \\\n",
      "0                                                 -12.3    \n",
      "1                                                   -14    \n",
      "2                                                 -11.6    \n",
      "3                                                 -13.9    \n",
      "4                                                 -19.1    \n",
      "...                                                 ...    \n",
      "4840                                               20.6    \n",
      "4841                                               71.9    \n",
      "4842                                               66.3    \n",
      "4843                                                 46    \n",
      "4844                                               38.7    \n",
      "\n",
      "     General merchandise stores (GEN) and apparel and accessories (AAP) spending  \\\n",
      "0                                                 -5.39                            \n",
      "1                                                 -2.29                            \n",
      "2                                                 0.653                            \n",
      "3                                                 -1.45                            \n",
      "4                                                 -5.96                            \n",
      "...                                                 ...                            \n",
      "4840                                               34.3                            \n",
      "4841                                               27.2                            \n",
      "4842                                               49.6                            \n",
      "4843                                                 32                            \n",
      "4844                                               24.6                            \n",
      "\n",
      "     Grocery and food store (GRF)  spending  \\\n",
      "0                                     -3.47   \n",
      "1                                     0.373   \n",
      "2                                    -0.622   \n",
      "3                                     -0.89   \n",
      "4                                    -0.105   \n",
      "...                                     ...   \n",
      "4840                                   38.4   \n",
      "4841                                   27.7   \n",
      "4842                                   18.8   \n",
      "4843                                   21.1   \n",
      "4844                                   27.3   \n",
      "\n",
      "     Health care and social assistance (HCS) spending   \\\n",
      "0                                                -3.17   \n",
      "1                                                 3.61   \n",
      "2                                                 4.78   \n",
      "3                                                 7.92   \n",
      "4                                                 1.24   \n",
      "...                                                ...   \n",
      "4840                                              21.8   \n",
      "4841                                              53.3   \n",
      "4842                                              58.2   \n",
      "4843                                              41.4   \n",
      "4844                                             -30.5   \n",
      "\n",
      "     Transportation and warehousing (TWS)  spending  \\\n",
      "0                                             -2.55   \n",
      "1                                             -1.74   \n",
      "2                                              1.23   \n",
      "3                                            -0.111   \n",
      "4                                             -31.2   \n",
      "...                                             ...   \n",
      "4840                                           10.9   \n",
      "4841                                             13   \n",
      "4842                                           55.7   \n",
      "4843                                           12.9   \n",
      "4844                                           33.2   \n",
      "\n",
      "     Retail spending, including grocery  (AAP, CEC, GEN, GRF, HIC, ETC, SGH)   \\\n",
      "0                                                 -3.57                         \n",
      "1                                                 0.358                         \n",
      "2                                                 0.227                         \n",
      "3                                                -0.563                         \n",
      "4                                                 -4.51                         \n",
      "...                                                 ...                         \n",
      "4840                                               29.3                         \n",
      "4841                                                 22                         \n",
      "4842                                               32.4                         \n",
      "4843                                               22.7                         \n",
      "4844                                               37.9                         \n",
      "\n",
      "     Retail spending, excluding grocery ((AAP, CEC, GEN, HIC, ETC, SGH)   \n",
      "0                                                 -3.69                   \n",
      "1                                                 0.259                   \n",
      "2                                                  1.09                   \n",
      "3                                                -0.281                   \n",
      "4                                                 -9.52                   \n",
      "...                                                 ...                   \n",
      "4840                                               23.6                   \n",
      "4841                                               16.5                   \n",
      "4842                                               44.3                   \n",
      "4843                                                 24                   \n",
      "4844                                               47.4                   \n",
      "\n",
      "[4845 rows x 19 columns]\n"
     ]
    }
   ],
   "source": [
    "# העמודות המספריות בדאטה פריים\n",
    "numeric_columns = ['position', 'created_at', 'updated_at', 'State FIPS code']\n",
    "\n",
    "# המרת העמודות המספריות לסוג נתונים מספריים\n",
    "table[numeric_columns] = table[numeric_columns].apply(pd.to_numeric, errors='coerce')\n",
    "\n",
    "# סטנדרטיזציה של הנתונים המספריים\n",
    "table[numeric_columns] = (table[numeric_columns] - table[numeric_columns].mean()) / table[numeric_columns].std()\n",
    "\n",
    "\n",
    "print(table)\n"
   ]
  },
  {
   "cell_type": "code",
   "execution_count": null,
   "id": "abfc7252",
   "metadata": {},
   "outputs": [],
   "source": [
    "\n"
   ]
  },
  {
   "cell_type": "code",
   "execution_count": null,
   "id": "25b59368",
   "metadata": {},
   "outputs": [],
   "source": []
  },
  {
   "cell_type": "code",
   "execution_count": null,
   "id": "ea607d76",
   "metadata": {},
   "outputs": [],
   "source": []
  },
  {
   "cell_type": "code",
   "execution_count": 16,
   "id": "89ac1dcb",
   "metadata": {},
   "outputs": [
    {
     "name": "stdout",
     "output_type": "stream",
     "text": [
      "<class 'pandas.core.frame.DataFrame'>\n",
      "RangeIndex: 4845 entries, 0 to 4844\n",
      "Data columns (total 13 columns):\n",
      " #   Column                                                                       Non-Null Count  Dtype  \n",
      "---  ------                                                                       --------------  -----  \n",
      " 0   sid                                                                          4845 non-null   string \n",
      " 1   id                                                                           4845 non-null   string \n",
      " 2   State FIPS code                                                              4845 non-null   float64\n",
      " 3   Date                                                                         4845 non-null   object \n",
      " 4   All merchant category codes spending                                         4845 non-null   object \n",
      " 5   Accommodation and food service (ACF) spending                                4845 non-null   object \n",
      " 6   Arts, entertainment, and recreation (AER)  spending                          4845 non-null   object \n",
      " 7   General merchandise stores (GEN) and apparel and accessories (AAP) spending  4845 non-null   object \n",
      " 8   Grocery and food store (GRF)  spending                                       4845 non-null   object \n",
      " 9   Health care and social assistance (HCS) spending                             4845 non-null   object \n",
      " 10  Transportation and warehousing (TWS)  spending                               4845 non-null   object \n",
      " 11  Retail spending, including grocery  (AAP, CEC, GEN, GRF, HIC, ETC, SGH)      4845 non-null   object \n",
      " 12  Retail spending, excluding grocery ((AAP, CEC, GEN, HIC, ETC, SGH)           4845 non-null   object \n",
      "dtypes: float64(1), object(10), string(2)\n",
      "memory usage: 492.2+ KB\n",
      "None\n"
     ]
    },
    {
     "name": "stderr",
     "output_type": "stream",
     "text": [
      "c:\\users\\rache\\appdata\\local\\programs\\python\\python39\\lib\\site-packages\\pandas\\core\\tools\\datetimes.py:528: RuntimeWarning: invalid value encountered in cast\n",
      "  arr, tz_parsed = tslib.array_with_unit_to_datetime(arg, unit, errors=errors)\n"
     ]
    }
   ],
   "source": [
    "# הסרת עמודות מיותרות\n",
    "updated_table = table.copy()  \n",
    "\n",
    "# שינוי סוגי הנתונים של עמודות\n",
    "updated_table['sid'] = updated_table['sid'].astype('string')  # שינוי סוג הנתונים ל-string\n",
    "updated_table['id'] = updated_table['id'].astype('string')  # שינוי סוג הנתונים ל-string\n",
    "updated_table['created_at'] = pd.to_datetime(updated_table['created_at'], unit='s')  # שינוי סוג הנתונים ל-date time\n",
    "updated_table['updated_at'] = pd.to_datetime(updated_table['updated_at'], unit='s')  # שינוי סוג הנתונים ל-date time\n",
    "updated_table.drop(columns=['created_meta', 'updated_meta'], inplace=True)  # הסרת עמודות מיותרות\n",
    "updated_table.drop(columns=['created_at', 'updated_at'], inplace=True)  # הסרת עמודות מיותרות\n",
    "updated_table.drop(columns=['meta', 'position'], inplace=True)  # הסרת עמודות מיותרות\n",
    "\n",
    "# הצגת הטבלה לאחר השינויים\n",
    "print(updated_table.info())\n",
    "\n"
   ]
  },
  {
   "cell_type": "code",
   "execution_count": 17,
   "id": "b91960d6",
   "metadata": {},
   "outputs": [],
   "source": [
    "#כרגע לאחר שראינו שגם הדאטה של "
   ]
  },
  {
   "cell_type": "code",
   "execution_count": null,
   "id": "28caaea1",
   "metadata": {},
   "outputs": [],
   "source": []
  },
  {
   "cell_type": "code",
   "execution_count": 18,
   "id": "578b94df",
   "metadata": {},
   "outputs": [
    {
     "name": "stdout",
     "output_type": "stream",
     "text": [
      "<class 'pandas.core.frame.DataFrame'>\n",
      "RangeIndex: 4845 entries, 0 to 4844\n",
      "Data columns (total 13 columns):\n",
      " #   Column                                                                       Non-Null Count  Dtype  \n",
      "---  ------                                                                       --------------  -----  \n",
      " 0   sid                                                                          4845 non-null   string \n",
      " 1   id                                                                           4845 non-null   string \n",
      " 2   State FIPS code                                                              4845 non-null   float64\n",
      " 3   Date                                                                         4845 non-null   object \n",
      " 4   All merchant category codes spending                                         4845 non-null   object \n",
      " 5   Accommodation and food service (ACF) spending                                4845 non-null   object \n",
      " 6   Arts, entertainment, and recreation (AER)  spending                          4845 non-null   object \n",
      " 7   General merchandise stores (GEN) and apparel and accessories (AAP) spending  4845 non-null   object \n",
      " 8   Grocery and food store (GRF)  spending                                       4845 non-null   object \n",
      " 9   Health care and social assistance (HCS) spending                             4845 non-null   object \n",
      " 10  Transportation and warehousing (TWS)  spending                               4845 non-null   object \n",
      " 11  Retail spending, including grocery  (AAP, CEC, GEN, GRF, HIC, ETC, SGH)      4845 non-null   object \n",
      " 12  Retail spending, excluding grocery ((AAP, CEC, GEN, HIC, ETC, SGH)           4845 non-null   object \n",
      "dtypes: float64(1), object(10), string(2)\n",
      "memory usage: 492.2+ KB\n",
      "None\n"
     ]
    }
   ],
   "source": [
    "print(updated_table.info())\n"
   ]
  },
  {
   "cell_type": "code",
   "execution_count": 19,
   "id": "89f75aa7",
   "metadata": {
    "scrolled": false
   },
   "outputs": [
    {
     "name": "stdout",
     "output_type": "stream",
     "text": [
      "There are some values in 'id' column without a match in 'sid' column.\n"
     ]
    }
   ],
   "source": [
    "\n",
    "# בדיקת התאמה בין עמודת 'id' לבין עמודת 'sid'\n",
    "match_check = table['id'] == table['sid']\n",
    "\n",
    "# בדיקה האם יש ערכים בעמודה 'id' שאין להם התאמה בעמודה 'sid'\n",
    "if not match_check.all():\n",
    "    print(\"There are some values in 'id' column without a match in 'sid' column.\")\n",
    "else:\n",
    "    print(\"All values in 'id' column have a match in 'sid' column.\")\n",
    "\n"
   ]
  },
  {
   "cell_type": "markdown",
   "id": "7beae193",
   "metadata": {},
   "source": [
    "העמודות שנשארו:"
   ]
  },
  {
   "cell_type": "markdown",
   "id": "846c6919",
   "metadata": {},
   "source": [
    "\n",
    "הסבר על כל עמודה בטבלה\n",
    "\n",
    "sid: מזהה ייחודי לכל שורה בטבלה.\n",
    "\n",
    "id: מזהה ייחודי לכל שורה בטבלה, יכול לשמש כמפתח ראשי.\n",
    "\n",
    "State FIPS code: מזהה ייחודי של מדינת ארה\"ב, המשמש במערכת הפדרלית של ארצות הברית לצורך זיהוי גאוגרפי של המדינות.\n",
    "\n",
    "Date: תאריך השורה.\n",
    "\n",
    "All merchant category codes spending: הוצאות בקטגוריות השונות של רשתות המסחר.\n",
    "\n",
    "Accommodation and food service (ACF) spending: הוצאות בתחום האירוח והשירותים המזון.\n",
    "\n",
    "Arts, entertainment, and recreation (AER) spending: הוצאות בתחום האמנות, הבידור והנפנוף.\n",
    "\n",
    "General merchandise stores (GEN) and apparel and accessories (AAP) spending: הוצאות בחנויות למוצרים כלליים, בגדים ואביזרים.\n",
    "\n",
    "Grocery and food store (GRF) spending: הוצאות בחנויות מזון ומכולת.\n",
    "\n",
    "Health care and social assistance (HCS) spending: הוצאות בתחום הבריאות והסיוע החברתי.\n",
    "\n",
    "Transportation and warehousing (TWS) spending: הוצאות בתחום התחבורה והאחסון.\n",
    "\n",
    "Retail spending, including grocery (AAP, CEC, GEN, GRF, HIC, ETC, SGH): סכום ההוצאות בתחום המסחר, כולל קניות בחנויות מזון.\n",
    "\n",
    "Retail spending, excluding grocery ((AAP, CEC, GEN, HIC, ETC, SGH): סכום ההוצאות בתחום המסחר, ללא קניות בחנויות מזון"
   ]
  },
  {
   "cell_type": "markdown",
   "id": "16dfdee7",
   "metadata": {},
   "source": [
    "ננסה לבדוק איך התפלגות הנתונים נראית"
   ]
  },
  {
   "cell_type": "code",
   "execution_count": null,
   "id": "8c5910bc",
   "metadata": {},
   "outputs": [],
   "source": []
  },
  {
   "cell_type": "code",
   "execution_count": 20,
   "id": "f359218d",
   "metadata": {
    "scrolled": true
   },
   "outputs": [
    {
     "data": {
      "text/plain": [
       "Index(['sid', 'id', 'State FIPS code', 'Date',\n",
       "       'All merchant category codes spending',\n",
       "       'Accommodation and food service (ACF) spending',\n",
       "       'Arts, entertainment, and recreation (AER)  spending',\n",
       "       'General merchandise stores (GEN) and apparel and accessories (AAP) spending',\n",
       "       'Grocery and food store (GRF)  spending',\n",
       "       'Health care and social assistance (HCS) spending ',\n",
       "       'Transportation and warehousing (TWS)  spending',\n",
       "       'Retail spending, including grocery  (AAP, CEC, GEN, GRF, HIC, ETC, SGH) ',\n",
       "       'Retail spending, excluding grocery ((AAP, CEC, GEN, HIC, ETC, SGH) '],\n",
       "      dtype='object')"
      ]
     },
     "execution_count": 20,
     "metadata": {},
     "output_type": "execute_result"
    }
   ],
   "source": [
    "updated_table.columns\n"
   ]
  },
  {
   "cell_type": "code",
   "execution_count": 21,
   "id": "e6196154",
   "metadata": {},
   "outputs": [
    {
     "name": "stdout",
     "output_type": "stream",
     "text": [
      "Index(['sid', 'id', 'State FIPS code', 'Date',\n",
      "       'All merchant category codes spending',\n",
      "       'Accommodation and food service (ACF) spending',\n",
      "       'Arts, entertainment, and recreation (AER)  spending',\n",
      "       'General merchandise stores (GEN) and apparel and accessories (AAP) spending',\n",
      "       'Grocery and food store (GRF)  spending',\n",
      "       'Health care and social assistance (HCS) spending',\n",
      "       'Transportation and warehousing (TWS)  spending',\n",
      "       'Retail spending including grocery',\n",
      "       'Retail spending excluding grocery'],\n",
      "      dtype='object')\n"
     ]
    }
   ],
   "source": [
    "updated_table.columns = updated_table.columns.str.strip()\n",
    "#print(updated_table.columns)\n",
    "updated_table.rename(columns={'Retail spending, excluding grocery ((AAP, CEC, GEN, HIC, ETC, SGH)': 'Retail spending, excluding grocery ((AAP, CEC, GEN, HIC, ETC, SGH))'}, inplace=True)\n",
    "updated_table.columns\n",
    "updated_table = updated_table.rename(columns={'Retail spending, including grocery  (AAP, CEC, GEN, GRF, HIC, ETC, SGH)': 'Retail spending including grocery',\n",
    "                                              'Retail spending, excluding grocery ((AAP, CEC, GEN, HIC, ETC, SGH))': 'Retail spending excluding grocery'})\n",
    "print(updated_table.columns)"
   ]
  },
  {
   "cell_type": "code",
   "execution_count": null,
   "id": "7ec5fade",
   "metadata": {},
   "outputs": [],
   "source": []
  },
  {
   "cell_type": "code",
   "execution_count": 216,
   "id": "fbdc47fc",
   "metadata": {},
   "outputs": [
    {
     "data": {
      "image/png": "[encoded data removed]",
      "text/plain": [
       "<Figure size 1008x432 with 1 Axes>"
      ]
     },
     "metadata": {
      "needs_background": "light"
     },
     "output_type": "display_data"
    }
   ],
   "source": [
    "import matplotlib.pyplot as plt\n",
    "\n",
    "# ציור הגרף\n",
    "plt.figure(figsize=(14, 6))\n",
    "plt.bar(updated_table['State FIPS code'], updated_table['All merchant category codes spending'])\n",
    "plt.title('All merchant category codes spending by State FIPS code')\n",
    "plt.xlabel('State FIPS code')\n",
    "plt.ylabel('All merchant category codes spending')\n",
    "plt.xticks(rotation=90) \n",
    "plt.grid(True)\n",
    "plt.show()\n"
   ]
  },
  {
   "cell_type": "markdown",
   "id": "6e57cd31",
   "metadata": {},
   "source": [
    "הגרף מציג את ההוצאות לפי קודי מדינה, מה שמאפשר קריאה נוחה והשוואה בין הוצאות הקטגוריות בין מדינות שונות. כמו כן, השימוש בעמודות מאפשר קריאה ברורה של ההבדלים בהוצאות בין המדינות השונות. הגרף מספק מבט עיקרי וקצר על התפלגות ההוצאות באמצעות התצוגה הוויזואלית של עמודות עם סוגי הוצאות בין המדינות, ומאפשר לראות בקלות את המדינות עם ההוצאות הגבוהות והנמוכות ביותר."
   ]
  },
  {
   "cell_type": "code",
   "execution_count": 156,
   "id": "202b0ca6",
   "metadata": {},
   "outputs": [
    {
     "data": {
      "text/plain": [
       "count     4840\n",
       "unique    1058\n",
       "top       24.8\n",
       "freq        32\n",
       "Name: Retail spending including grocery, dtype: object"
      ]
     },
     "execution_count": 156,
     "metadata": {},
     "output_type": "execute_result"
    }
   ],
   "source": [
    "#updated_table.describe()\n",
    "#updated_table['State FIPS code'].describe()\n",
    "updated_table['Retail spending including grocery'].describe()\n"
   ]
  },
  {
   "cell_type": "code",
   "execution_count": 157,
   "id": "ca96985d",
   "metadata": {},
   "outputs": [],
   "source": [
    "updated_table['Accommodation and food service (ACF) spending'] = pd.to_numeric(updated_table['Accommodation and food service (ACF) spending'], errors='coerce')\n"
   ]
  },
  {
   "cell_type": "markdown",
   "id": "261d7a99",
   "metadata": {},
   "source": [
    "פרמטר ה־errors='coerce' מציין לפונקציה להמיר ערכים שאינם מספריים ל־NaN (לא מספר) במקרה של קיום ערך שאינו מספרי בעמודה. בכך ניתן לטפל בערכים לא תקינים או ריקים בעמודה, ולא לאפשר שגיאות בתהליך הנתונים."
   ]
  },
  {
   "cell_type": "code",
   "execution_count": 158,
   "id": "9a44ef98",
   "metadata": {},
   "outputs": [
    {
     "data": {
      "image/png": "[encoded data removed]",
      "text/plain": [
       "<Figure size 864x432 with 2 Axes>"
      ]
     },
     "metadata": {
      "needs_background": "light"
     },
     "output_type": "display_data"
    }
   ],
   "source": [
    "import matplotlib.pyplot as plt\n",
    "\n",
    "# נתוני העמודות\n",
    "data_state_fips = updated_table['State FIPS code']\n",
    "data_accommodation = updated_table['Accommodation and food service (ACF) spending']\n",
    "\n",
    "# יצירת אקספלוטים\n",
    "plt.figure(figsize=(12, 6))\n",
    "\n",
    "# אקספלוט העמודה State FIPS code\n",
    "plt.subplot(1, 2, 1)\n",
    "plt.boxplot(data_state_fips)\n",
    "plt.title('Boxplot of State FIPS code')\n",
    "plt.ylabel('State FIPS code')\n",
    "\n",
    "# אקספלוט העמודה Accommodation and food service (ACF) spending\n",
    "plt.subplot(1, 2, 2)\n",
    "plt.boxplot(data_accommodation)\n",
    "plt.title('Boxplot of Accommodation and food service (ACF) spending')\n",
    "plt.ylabel('Accommodation and food service (ACF) spending')\n",
    "\n",
    "# הצגת האקספלוטים\n",
    "plt.tight_layout()\n",
    "plt.show()\n"
   ]
  },
  {
   "cell_type": "markdown",
   "id": "0c3c9dac",
   "metadata": {},
   "source": [
    "\n",
    "האקספלוט הראשון מציג את התפלגות ערכי קודי המדינה\n",
    "האקספלוט השני מציג את התפלגות הוצאות בקטגוריה \"Accommodation and food service (ACF) spending\" "
   ]
  },
  {
   "cell_type": "code",
   "execution_count": 159,
   "id": "a3399662",
   "metadata": {
    "scrolled": true
   },
   "outputs": [
    {
     "data": {
      "image/png": "[encoded data removed]",
      "text/plain": [
       "<Figure size 720x432 with 1 Axes>"
      ]
     },
     "metadata": {
      "needs_background": "light"
     },
     "output_type": "display_data"
    }
   ],
   "source": [
    "import matplotlib.pyplot as plt\n",
    "\n",
    "# נתוני העמודה\n",
    "data = updated_table['State FIPS code']\n",
    "\n",
    "# אקספלוט\n",
    "plt.figure(figsize=(10, 6))\n",
    "plt.boxplot(data)\n",
    "\n",
    "# הוספת כותרת ותווים לצירים\n",
    "plt.title('Boxplot of State FIPS code')\n",
    "plt.ylabel('State FIPS code')\n",
    "\n",
    "plt.show()\n"
   ]
  },
  {
   "cell_type": "code",
   "execution_count": 226,
   "id": "375ff127",
   "metadata": {},
   "outputs": [
    {
     "data": {
      "text/plain": [
       "count    4840.000000\n",
       "mean       21.801097\n",
       "std        18.084998\n",
       "min       -50.500000\n",
       "25%        12.600000\n",
       "50%        24.100000\n",
       "75%        33.100000\n",
       "max       167.000000\n",
       "Name: Retail spending including grocery, dtype: float64"
      ]
     },
     "execution_count": 226,
     "metadata": {},
     "output_type": "execute_result"
    }
   ],
   "source": [
    "updated_table['Retail spending including grocery'].describe()\n"
   ]
  },
  {
   "cell_type": "code",
   "execution_count": 227,
   "id": "ed678a0d",
   "metadata": {},
   "outputs": [
    {
     "data": {
      "text/plain": [
       "count    4840.000000\n",
       "mean       21.801097\n",
       "std        18.084998\n",
       "min       -50.500000\n",
       "25%        12.600000\n",
       "50%        24.100000\n",
       "75%        33.100000\n",
       "max       167.000000\n",
       "Name: Retail spending excluding grocery, dtype: float64"
      ]
     },
     "execution_count": 227,
     "metadata": {},
     "output_type": "execute_result"
    }
   ],
   "source": [
    "updated_table['Retail spending excluding grocery'].describe()\n"
   ]
  },
  {
   "cell_type": "code",
   "execution_count": 228,
   "id": "1da1b3c9",
   "metadata": {},
   "outputs": [
    {
     "data": {
      "text/plain": [
       "count    4840.000000\n",
       "mean        9.025834\n",
       "std        15.261844\n",
       "min       -44.000000\n",
       "25%        -1.162500\n",
       "50%        12.300000\n",
       "75%        20.200000\n",
       "max        45.900000\n",
       "Name: All merchant category codes spending, dtype: float64"
      ]
     },
     "execution_count": 228,
     "metadata": {},
     "output_type": "execute_result"
    }
   ],
   "source": [
    "updated_table['All merchant category codes spending'].describe()\n"
   ]
  },
  {
   "cell_type": "code",
   "execution_count": 161,
   "id": "8e9a73f8",
   "metadata": {},
   "outputs": [
    {
     "data": {
      "image/png": "[encoded data removed]",
      "text/plain": [
       "<Figure size 720x432 with 1 Axes>"
      ]
     },
     "metadata": {
      "needs_background": "light"
     },
     "output_type": "display_data"
    }
   ],
   "source": [
    "import matplotlib.pyplot as plt\n",
    "\n",
    "#  היסטוגרמה\n",
    "plt.figure(figsize=(10, 6))\n",
    "plt.hist(updated_table['Retail spending including grocery'], bins=20, color='green', edgecolor='black')\n",
    "\n",
    "\n",
    "\n",
    "# הוספת כותרת ותווים לצירים\n",
    "plt.title('Distribution of Retail spending including grocery')\n",
    "plt.xlabel('Retail spending including grocery')\n",
    "plt.ylabel('Frequency')\n",
    "\n",
    "plt.show()\n"
   ]
  },
  {
   "cell_type": "code",
   "execution_count": 162,
   "id": "1c170b99",
   "metadata": {},
   "outputs": [
    {
     "data": {
      "image/png": "[encoded data removed]",
      "text/plain": [
       "<Figure size 720x432 with 1 Axes>"
      ]
     },
     "metadata": {
      "needs_background": "light"
     },
     "output_type": "display_data"
    }
   ],
   "source": [
    "import numpy as np\n",
    "import pandas as pd\n",
    "import matplotlib.pyplot as plt\n",
    "\n",
    "# ניקוי העמודה והמרתה לערכים מספריים\n",
    "cleaned_column = pd.to_numeric(updated_table['Retail spending including grocery'], errors='coerce')\n",
    "\n",
    "# הסרת ערכים NaN\n",
    "cleaned_column = cleaned_column.dropna()\n",
    "\n",
    "# יצירת היסטוגרמה\n",
    "plt.figure(figsize=(10, 6))\n",
    "plt.hist(cleaned_column, bins=20, color='lime', edgecolor='black')\n",
    "\n",
    "# חישוב הממוצע\n",
    "mean_value = np.mean(cleaned_column)\n",
    "\n",
    "# נוסיף קו אנכי לממוצע\n",
    "plt.axvline(mean_value, color='red', linestyle='dashed', linewidth=2)\n",
    "\n",
    "# הוספת כותרת ותווים לצירים\n",
    "plt.title('Distribution of Retail spending including grocery')\n",
    "plt.xlabel('Retail spending including grocery')\n",
    "plt.ylabel('Frequency')\n",
    "\n",
    "plt.show()\n"
   ]
  },
  {
   "cell_type": "markdown",
   "id": "fe9ca14e",
   "metadata": {},
   "source": [
    "הקוד מייצר היסטוגרמה של נתונים מעמודה מסוימת בטבלה, מבצע ניקוי וסידור ערכים, חישוב ממוצע, ומציג את ההיסטוגרמה עם קו שמייצג את הממוצע."
   ]
  },
  {
   "cell_type": "code",
   "execution_count": 163,
   "id": "5c7ab796",
   "metadata": {},
   "outputs": [
    {
     "data": {
      "image/png": "[encoded data removed]",
      "text/plain": [
       "<Figure size 720x432 with 1 Axes>"
      ]
     },
     "metadata": {
      "needs_background": "light"
     },
     "output_type": "display_data"
    }
   ],
   "source": [
    "# יצירת היסטוגרמה\n",
    "plt.figure(figsize=(10, 6))\n",
    "plt.hist(updated_table['Retail spending excluding grocery'], bins=20, color='green', edgecolor='black')\n",
    "\n",
    "# הוספת כותרת ותווים לצירים\n",
    "plt.title('Distribution of Retail spending including grocery')\n",
    "plt.xlabel('Retail spending including grocery')\n",
    "plt.ylabel('Frequency')\n",
    "\n",
    "# הצגת התרשים\n",
    "plt.show()"
   ]
  },
  {
   "cell_type": "code",
   "execution_count": 164,
   "id": "3dc4414e",
   "metadata": {},
   "outputs": [
    {
     "data": {
      "image/png": "[encoded data removed]",
      "text/plain": [
       "<Figure size 720x432 with 1 Axes>"
      ]
     },
     "metadata": {
      "needs_background": "light"
     },
     "output_type": "display_data"
    }
   ],
   "source": [
    "import pandas as pd\n",
    "import matplotlib.pyplot as plt\n",
    "\n",
    "# המרת הנתונים בעמודה למספרים והסרת הערכים שאינם ניתנים להמרה\n",
    "updated_table['Retail spending including grocery'] = pd.to_numeric(updated_table['Retail spending excluding grocery'], errors='coerce')\n",
    "updated_table = updated_table.dropna(subset=['Retail spending excluding grocery'])\n",
    "\n",
    "# יצירת היסטוגרמה\n",
    "plt.figure(figsize=(10, 6))\n",
    "plt.hist(updated_table['Retail spending excluding grocery'], bins=20, color='green', edgecolor='black')\n",
    "\n",
    "# כותרת ותווים לצירים\n",
    "plt.title('Distribution of Retail spending excluding grocery')\n",
    "plt.xlabel('Retail spending excluding grocery')\n",
    "plt.ylabel('Frequency')\n",
    "\n",
    "plt.show()\n"
   ]
  },
  {
   "cell_type": "code",
   "execution_count": 165,
   "id": "174625fc",
   "metadata": {},
   "outputs": [
    {
     "data": {
      "image/png": "[encoded data removed]",
      "text/plain": [
       "<Figure size 720x432 with 1 Axes>"
      ]
     },
     "metadata": {
      "needs_background": "light"
     },
     "output_type": "display_data"
    }
   ],
   "source": [
    "import pandas as pd\n",
    "import matplotlib.pyplot as plt\n",
    "\n",
    "# המרת הנתונים בעמודה למספרים והסרת הערכים שאינם ניתנים להמרה\n",
    "updated_table['Retail spending excluding grocery'] = pd.to_numeric(updated_table['Retail spending excluding grocery'], errors='coerce')\n",
    "updated_table = updated_table.dropna(subset=['Retail spending excluding grocery'])\n",
    "\n",
    "# יצירת היסטוגרמה\n",
    "plt.figure(figsize=(10, 6))\n",
    "plt.hist(updated_table['Retail spending excluding grocery'], bins=20, color='green', edgecolor='black')\n",
    "\n",
    "# הוספת כותרת ותווים לצירים\n",
    "plt.title('Distribution of Retail spending excluding grocery')\n",
    "plt.xlabel('Retail spending excluding grocery')\n",
    "plt.ylabel('Frequency')\n",
    "\n",
    "plt.show()\n"
   ]
  },
  {
   "cell_type": "markdown",
   "id": "7678c46e",
   "metadata": {},
   "source": [
    "עבודה עם הדאטה"
   ]
  },
  {
   "cell_type": "code",
   "execution_count": 166,
   "id": "bd218a15",
   "metadata": {},
   "outputs": [
    {
     "name": "stdout",
     "output_type": "stream",
     "text": [
      "Mean Squared Error: 0.010184549558043128\n"
     ]
    }
   ],
   "source": [
    "\n",
    "\n",
    "# יצירת נתוני רגרסיה \n",
    "X, y = make_regression(n_samples=1000, n_features=10, noise=0.1, random_state=42)\n",
    "\n",
    "# חלוקת הנתונים לקבוצת אימון ובדיקה\n",
    "X_train, X_test, y_train, y_test = train_test_split(X, y, test_size=0.2, random_state=42)\n",
    "\n",
    "# יצירת המודל ואימוןו על נתוני האימון\n",
    "model = SVR(kernel='linear')\n",
    "model.fit(X_train, y_train)\n",
    "\n",
    "# חיזוי התגובה עבור נתוני הבדיקה\n",
    "y_pred = model.predict(X_test)\n",
    "\n",
    "# חישוב שגיאת הריבוע הממוצעת\n",
    "mse = mean_squared_error(y_test, y_pred)\n",
    "print(\"Mean Squared Error:\", mse)\n"
   ]
  },
  {
   "cell_type": "code",
   "execution_count": 167,
   "id": "e1936620",
   "metadata": {},
   "outputs": [
    {
     "name": "stdout",
     "output_type": "stream",
     "text": [
      "Epoch 1/10\n"
     ]
    },
    {
     "name": "stderr",
     "output_type": "stream",
     "text": [
      "c:\\users\\rache\\appdata\\local\\programs\\python\\python39\\lib\\site-packages\\keras\\src\\layers\\core\\dense.py:88: UserWarning: Do not pass an `input_shape`/`input_dim` argument to a layer. When using Sequential models, prefer using an `Input(shape)` object as the first layer in the model instead.\n",
      "  super().__init__(activity_regularizer=activity_regularizer, **kwargs)\n"
     ]
    },
    {
     "name": "stdout",
     "output_type": "stream",
     "text": [
      "\u001b[1m20/20\u001b[0m \u001b[32m━━━━━━━━━━━━━━━━━━━━\u001b[0m\u001b[37m\u001b[0m \u001b[1m2s\u001b[0m 16ms/step - loss: 18726.9160 - val_loss: 14770.9248\n",
      "Epoch 2/10\n",
      "\u001b[1m20/20\u001b[0m \u001b[32m━━━━━━━━━━━━━━━━━━━━\u001b[0m\u001b[37m\u001b[0m \u001b[1m0s\u001b[0m 5ms/step - loss: 17230.6172 - val_loss: 14575.3730\n",
      "Epoch 3/10\n",
      "\u001b[1m20/20\u001b[0m \u001b[32m━━━━━━━━━━━━━━━━━━━━\u001b[0m\u001b[37m\u001b[0m \u001b[1m0s\u001b[0m 5ms/step - loss: 18197.8340 - val_loss: 14192.0566\n",
      "Epoch 4/10\n",
      "\u001b[1m20/20\u001b[0m \u001b[32m━━━━━━━━━━━━━━━━━━━━\u001b[0m\u001b[37m\u001b[0m \u001b[1m0s\u001b[0m 6ms/step - loss: 16998.8711 - val_loss: 13505.7529\n",
      "Epoch 5/10\n",
      "\u001b[1m20/20\u001b[0m \u001b[32m━━━━━━━━━━━━━━━━━━━━\u001b[0m\u001b[37m\u001b[0m \u001b[1m0s\u001b[0m 9ms/step - loss: 17140.3711 - val_loss: 12440.8398\n",
      "Epoch 6/10\n",
      "\u001b[1m20/20\u001b[0m \u001b[32m━━━━━━━━━━━━━━━━━━━━\u001b[0m\u001b[37m\u001b[0m \u001b[1m0s\u001b[0m 5ms/step - loss: 14455.5947 - val_loss: 10910.1152\n",
      "Epoch 7/10\n",
      "\u001b[1m20/20\u001b[0m \u001b[32m━━━━━━━━━━━━━━━━━━━━\u001b[0m\u001b[37m\u001b[0m \u001b[1m0s\u001b[0m 5ms/step - loss: 11491.8311 - val_loss: 8935.2627\n",
      "Epoch 8/10\n",
      "\u001b[1m20/20\u001b[0m \u001b[32m━━━━━━━━━━━━━━━━━━━━\u001b[0m\u001b[37m\u001b[0m \u001b[1m0s\u001b[0m 5ms/step - loss: 10080.6445 - val_loss: 6667.3174\n",
      "Epoch 9/10\n",
      "\u001b[1m20/20\u001b[0m \u001b[32m━━━━━━━━━━━━━━━━━━━━\u001b[0m\u001b[37m\u001b[0m \u001b[1m0s\u001b[0m 5ms/step - loss: 6748.6753 - val_loss: 4413.6577\n",
      "Epoch 10/10\n",
      "\u001b[1m20/20\u001b[0m \u001b[32m━━━━━━━━━━━━━━━━━━━━\u001b[0m\u001b[37m\u001b[0m \u001b[1m0s\u001b[0m 6ms/step - loss: 4658.3057 - val_loss: 2524.6895\n",
      "\u001b[1m7/7\u001b[0m \u001b[32m━━━━━━━━━━━━━━━━━━━━\u001b[0m\u001b[37m\u001b[0m \u001b[1m0s\u001b[0m 3ms/step - loss: 2817.7334  \n",
      "Mean Squared Error: 2891.84765625\n"
     ]
    }
   ],
   "source": [
    "import tensorflow as tf\n",
    "from tensorflow.keras.models import Sequential\n",
    "from tensorflow.keras.layers import Dense\n",
    "\n",
    "# קביעת מודל רשת נוירונים\n",
    "model = Sequential([\n",
    "    Dense(64, activation='relu', input_shape=(10,)),\n",
    "    Dense(64, activation='relu'),\n",
    "    Dense(1)\n",
    "])\n",
    "\n",
    "# קביעת אופטימיזציה ואובדן למודל\n",
    "model.compile(optimizer='adam',\n",
    "              loss='mean_squared_error')\n",
    "\n",
    "# אימון המודל על הנתונים\n",
    "model.fit(X_train, y_train, epochs=10, batch_size=32, validation_split=0.2)\n",
    "\n",
    "# הערכת הביצועים של המודל על נתוני הבדיקה\n",
    "mse = model.evaluate(X_test, y_test)\n",
    "print(\"Mean Squared Error:\", mse)\n"
   ]
  },
  {
   "cell_type": "markdown",
   "id": "9d4daeb1",
   "metadata": {},
   "source": [
    "התוצאות שנראות כאן הן תוצאות של אימון מודל רשת נוירונים (Neural Network) על נתוני אימון ובדיקה. בכל אפוץ (Epoch), המודל מתאמן על נתוני האימון ומערך האימון ובודק את הביצועים שלו על נתוני הביצוע באמצעות הבדיקה.\n",
    "השגיאה מציינת את הסכום של המרחקים הריבוניים הרמוניים בין הערכים הצפויים לבין הערכים הנמדדים, כאשר השגיאה נמדדת בריבוע.\n",
    "במקרה זה, נראה שהשגיאה נמוכה יחסית במהלך האימון על נתוני האימון, אך בניסוי הבדיקה השגיאה מופיעה גבוהה יותר, מה שעשוי להצביע על פקטור של אובר-אימון (Overfitting) של המודל לנתוני האימון. "
   ]
  },
  {
   "cell_type": "code",
   "execution_count": 168,
   "id": "9ba83e77",
   "metadata": {},
   "outputs": [
    {
     "name": "stdout",
     "output_type": "stream",
     "text": [
      "Decision Tree MSE: 6639.631625858293\n",
      "MLP Regressor MSE: 30.529793980110885\n",
      "Linear Regression MSE: 0.009511914910416143\n",
      "Logistic Regression MSE: 0.045\n"
     ]
    },
    {
     "name": "stderr",
     "output_type": "stream",
     "text": [
      "c:\\users\\rache\\appdata\\local\\programs\\python\\python39\\lib\\site-packages\\sklearn\\neural_network\\_multilayer_perceptron.py:614: ConvergenceWarning: Stochastic Optimizer: Maximum iterations (1000) reached and the optimization hasn't converged yet.\n",
      "  warnings.warn(\n"
     ]
    }
   ],
   "source": [
    "from sklearn.datasets import make_regression\n",
    "from sklearn.model_selection import train_test_split\n",
    "from sklearn.tree import DecisionTreeRegressor\n",
    "from sklearn.neural_network import MLPRegressor\n",
    "from sklearn.linear_model import LinearRegression, LogisticRegression\n",
    "from sklearn.metrics import mean_squared_error\n",
    "\n",
    "X, y = make_regression(n_samples=1000, n_features=10, noise=0.1, random_state=42)\n",
    "\n",
    "# חלוקת הנתונים לקבוצת אימון ובדיקה\n",
    "X_train, X_test, y_train, y_test = train_test_split(X, y, test_size=0.2, random_state=42)\n",
    "\n",
    "# יצירת המודל ואימוןו על נתוני האימון - עץ החלטה\n",
    "dt_regressor = DecisionTreeRegressor()\n",
    "dt_regressor.fit(X_train, y_train)\n",
    "\n",
    "# חיזוי התגובה עבור נתוני הבדיקה עם עץ החלטה\n",
    "dt_pred = dt_regressor.predict(X_test)\n",
    "\n",
    "# חישוב MSE עבור עץ החלטה\n",
    "dt_mse = mean_squared_error(y_test, dt_pred)\n",
    "print(\"Decision Tree MSE:\", dt_mse)\n",
    "\n",
    "# יצירת המודל ואימוןו על נתוני האימון - משתלם רב שכבתי (MLP)\n",
    "mlp_regressor = MLPRegressor(max_iter=1000, random_state=42)\n",
    "mlp_regressor.fit(X_train, y_train)\n",
    "\n",
    "# חיזוי התגובה עבור נתוני הבדיקה עם משתלם רב שכבתי (MLP)\n",
    "mlp_pred = mlp_regressor.predict(X_test)\n",
    "\n",
    "# חישוב MSE עבור משתלם רב שכבתי (MLP)\n",
    "mlp_mse = mean_squared_error(y_test, mlp_pred)\n",
    "print(\"MLP Regressor MSE:\", mlp_mse)\n",
    "\n",
    "# יצירת המודל ואימוןו על נתוני האימון - רגרסיה ליניארית\n",
    "linear_regressor = LinearRegression()\n",
    "linear_regressor.fit(X_train, y_train)\n",
    "\n",
    "# חיזוי התגובה עבור נתוני הבדיקה עם רגרסיה ליניארית\n",
    "linear_pred = linear_regressor.predict(X_test)\n",
    "\n",
    "# חישוב MSE עבור רגרסיה ליניארית\n",
    "linear_mse = mean_squared_error(y_test, linear_pred)\n",
    "print(\"Linear Regression MSE:\", linear_mse)\n",
    "\n",
    "# יצירת המודל ואימוןו על נתוני האימון - רגרסיה לוגיסטית\n",
    "logistic_regressor = LogisticRegression()\n",
    "logistic_regressor.fit(X_train, y_train > y_train.mean())\n",
    "\n",
    "# רגרסיה לוגיסטית\n",
    "logistic_pred = logistic_regressor.predict(X_test)\n",
    "\n",
    "# חישוב MSE עבור רגרסיה לוגיסטית\n",
    "logistic_mse = mean_squared_error(y_test > y_test.mean(), logistic_pred.astype(int))\n",
    "print(\"Logistic Regression MSE:\", logistic_mse)\n"
   ]
  },
  {
   "cell_type": "markdown",
   "id": "6026ed0b",
   "metadata": {},
   "source": [
    "\n",
    "מודל זה מציג תוצאות פחות טובות מהמודלים האחרים, מה שמראה על קיום פוטנציאל לשיפור."
   ]
  },
  {
   "cell_type": "code",
   "execution_count": 169,
   "id": "4715abe4",
   "metadata": {},
   "outputs": [
    {
     "data": {
      "image/png": "[encoded data removed]",
      "text/plain": [
       "<Figure size 720x432 with 1 Axes>"
      ]
     },
     "metadata": {
      "needs_background": "light"
     },
     "output_type": "display_data"
    }
   ],
   "source": [
    "import matplotlib.pyplot as plt\n",
    "\n",
    "# מערך שמכיל את שמות המודלים\n",
    "models = ['Decision Tree', 'MLP Regressor', 'Linear Regression', 'Logistic Regression']\n",
    "\n",
    "# מערך שמכיל את ערכי ה-MSE של המודלים השונים\n",
    "mse_values = [6406.001969000893, 30.529793980110885, 0.009511914910416143, 0.045]\n",
    "\n",
    "# יצירת פלוט באמצעות Matplotlib\n",
    "plt.figure(figsize=(10, 6))\n",
    "plt.bar(models, mse_values, color=['blue', 'orange', 'green', 'red'])\n",
    "\n",
    "#  כותרת ותווים לצירים\n",
    "plt.title('Mean Squared Error (MSE) Comparison Between Models')\n",
    "plt.xlabel('Models')\n",
    "plt.ylabel('MSE')\n",
    "\n",
    "plt.show()\n"
   ]
  },
  {
   "cell_type": "code",
   "execution_count": 170,
   "id": "0f4d080c",
   "metadata": {},
   "outputs": [
    {
     "data": {
      "image/png": "[encoded data removed]",
      "text/plain": [
       "<Figure size 720x432 with 1 Axes>"
      ]
     },
     "metadata": {
      "needs_background": "light"
     },
     "output_type": "display_data"
    }
   ],
   "source": [
    "import matplotlib.pyplot as plt\n",
    "\n",
    "# מערך שמכיל את שמות המודלים\n",
    "models = ['Decision Tree', 'MLP Regressor', 'Linear Regression', 'Logistic Regression']\n",
    "\n",
    "# מערך שמכיל את הפרטים של כל מודל\n",
    "results = {\n",
    "    'Decision Tree': 'High',\n",
    "    'MLP Regressor': 'Medium',\n",
    "    'Linear Regression': 'Low',\n",
    "    'Logistic Regression': 'Low'\n",
    "}\n",
    "\n",
    "# יצירת פלוט באמצעות Matplotlib\n",
    "plt.figure(figsize=(10, 6))\n",
    "plt.bar(models, [results[model] for model in models], color=['blue', 'orange', 'green', 'red'])\n",
    "\n",
    "# הוספת כותרת ותווים לצירים\n",
    "plt.title('Model Performance')\n",
    "plt.xlabel('Models')\n",
    "plt.ylabel('Performance')\n",
    "\n",
    "plt.show()\n"
   ]
  },
  {
   "cell_type": "code",
   "execution_count": null,
   "id": "87e36858",
   "metadata": {},
   "outputs": [],
   "source": [
    "\n"
   ]
  },
  {
   "cell_type": "code",
   "execution_count": 171,
   "id": "a06b62be",
   "metadata": {},
   "outputs": [
    {
     "name": "stdout",
     "output_type": "stream",
     "text": [
      "<class 'pandas.core.frame.DataFrame'>\n",
      "Int64Index: 4840 entries, 0 to 4839\n",
      "Data columns (total 13 columns):\n",
      " #   Column                                                                       Non-Null Count  Dtype  \n",
      "---  ------                                                                       --------------  -----  \n",
      " 0   sid                                                                          4840 non-null   string \n",
      " 1   id                                                                           4840 non-null   string \n",
      " 2   State FIPS code                                                              4840 non-null   float64\n",
      " 3   Date                                                                         4840 non-null   object \n",
      " 4   All merchant category codes spending                                         4840 non-null   object \n",
      " 5   Accommodation and food service (ACF) spending                                4840 non-null   float64\n",
      " 6   Arts, entertainment, and recreation (AER)  spending                          4840 non-null   object \n",
      " 7   General merchandise stores (GEN) and apparel and accessories (AAP) spending  4840 non-null   object \n",
      " 8   Grocery and food store (GRF)  spending                                       4840 non-null   object \n",
      " 9   Health care and social assistance (HCS) spending                             4840 non-null   object \n",
      " 10  Transportation and warehousing (TWS)  spending                               4840 non-null   object \n",
      " 11  Retail spending including grocery                                            4840 non-null   float64\n",
      " 12  Retail spending excluding grocery                                            4840 non-null   float64\n",
      "dtypes: float64(4), object(7), string(2)\n",
      "memory usage: 529.4+ KB\n",
      "None\n"
     ]
    }
   ],
   "source": [
    "print(updated_table.info())\n"
   ]
  },
  {
   "cell_type": "code",
   "execution_count": 229,
   "id": "ae147a1d",
   "metadata": {},
   "outputs": [
    {
     "name": "stdout",
     "output_type": "stream",
     "text": [
      "   Accommodation and food service (ACF) spending  \\\n",
      "0                                          -6.04   \n",
      "1                                          -2.41   \n",
      "2                                          -3.86   \n",
      "3                                          -3.64   \n",
      "4                                         -15.00   \n",
      "\n",
      "  Arts, entertainment, and recreation (AER)  spending  \\\n",
      "0                                              -12.3    \n",
      "1                                                -14    \n",
      "2                                              -11.6    \n",
      "3                                              -13.9    \n",
      "4                                              -19.1    \n",
      "\n",
      "  General merchandise stores (GEN) and apparel and accessories (AAP) spending  \\\n",
      "0                                              -5.39                            \n",
      "1                                               -2.3                            \n",
      "2                                              0.653                            \n",
      "3                                              -1.45                            \n",
      "4                                              -5.96                            \n",
      "\n",
      "  Grocery and food store (GRF)  spending  \\\n",
      "0                                  -3.47   \n",
      "1                                  0.374   \n",
      "2                                 -0.622   \n",
      "3                                 -0.891   \n",
      "4                                 -0.105   \n",
      "\n",
      "  Health care and social assistance (HCS) spending  \\\n",
      "0                                            -3.17   \n",
      "1                                              3.6   \n",
      "2                                             4.78   \n",
      "3                                             7.92   \n",
      "4                                             1.24   \n",
      "\n",
      "  Transportation and warehousing (TWS)  spending  \\\n",
      "0                                          -2.55   \n",
      "1                                          -1.73   \n",
      "2                                           1.23   \n",
      "3                                         -0.109   \n",
      "4                                          -31.2   \n",
      "\n",
      "   Retail spending including grocery  Retail spending excluding grocery  \\\n",
      "0                             -3.690                             -3.690   \n",
      "1                              0.253                              0.253   \n",
      "2                              1.090                              1.090   \n",
      "3                             -0.281                             -0.281   \n",
      "4                             -9.520                             -9.520   \n",
      "\n",
      "   State FIPS code  \n",
      "0        -1.724653  \n",
      "1        -0.385117  \n",
      "2         0.368372  \n",
      "3         0.535814  \n",
      "4         1.205583  \n"
     ]
    },
    {
     "name": "stderr",
     "output_type": "stream",
     "text": [
      "C:\\Users\\rache\\AppData\\Local\\Temp/ipykernel_18600/820726728.py:17: SettingWithCopyWarning: \n",
      "A value is trying to be set on a copy of a slice from a DataFrame.\n",
      "Try using .loc[row_indexer,col_indexer] = value instead\n",
      "\n",
      "See the caveats in the documentation: https://pandas.pydata.org/pandas-docs/stable/user_guide/indexing.html#returning-a-view-versus-a-copy\n",
      "  selected_columns_df['State FIPS code'] = updated_table['State FIPS code']\n"
     ]
    }
   ],
   "source": [
    "# בחירת עמודות מתאימות כעמודות מטרה\n",
    "target_columns = [\n",
    "    'Accommodation and food service (ACF) spending',\n",
    "    'Arts, entertainment, and recreation (AER)  spending',\n",
    "    'General merchandise stores (GEN) and apparel and accessories (AAP) spending',\n",
    "    'Grocery and food store (GRF)  spending',\n",
    "    'Health care and social assistance (HCS) spending',\n",
    "    'Transportation and warehousing (TWS)  spending',\n",
    "    'Retail spending including grocery',\n",
    "    'Retail spending excluding grocery'\n",
    "]\n",
    "\n",
    "#  העמודות הנבחרות\n",
    "selected_columns_df = updated_table[target_columns]\n",
    "\n",
    "# עבור נוחות, נוסיף את העמודה 'State FIPS code' לדאטה\n",
    "selected_columns_df['State FIPS code'] = updated_table['State FIPS code']\n",
    "\n",
    "print(selected_columns_df.head())\n"
   ]
  },
  {
   "cell_type": "code",
   "execution_count": null,
   "id": "5dee6ba4",
   "metadata": {},
   "outputs": [],
   "source": []
  },
  {
   "cell_type": "code",
   "execution_count": 174,
   "id": "7fcb8037",
   "metadata": {},
   "outputs": [
    {
     "data": {
      "image/png": "[encoded data removed]",
      "text/plain": [
       "<Figure size 864x576 with 1 Axes>"
      ]
     },
     "metadata": {
      "needs_background": "light"
     },
     "output_type": "display_data"
    }
   ],
   "source": [
    "import matplotlib.pyplot as plt\n",
    "\n",
    "# הגדרת גודל הגרף\n",
    "plt.figure(figsize=(12, 8))\n",
    "\n",
    "# לולאה על כל אחת מהעמודות כדי שאוכל להציג אותם בנפרד\n",
    "for column in ['Accommodation and food service (ACF) spending',\n",
    "               'Arts, entertainment, and recreation (AER)  spending',\n",
    "               'General merchandise stores (GEN) and apparel and accessories (AAP) spending',\n",
    "               'Grocery and food store (GRF)  spending',\n",
    "               'Health care and social assistance (HCS) spending',\n",
    "               'Transportation and warehousing (TWS)  spending']:\n",
    "    \n",
    "    # יצירת גרף פשוט שמראה כל עמודה ביחס ל-'State FIPS code'\n",
    "    plt.scatter(selected_columns_df['State FIPS code'], selected_columns_df[column], label=column)\n",
    "\n",
    "# הגדרת סוג הציר לוגריתמי\n",
    "plt.yscale('log')\n",
    "\n",
    "# הגדרת כותרת לגרף\n",
    "plt.title('Consumer Spending by Category')\n",
    "\n",
    "# הגדרת תווים לצירים\n",
    "plt.xlabel('State FIPS Code')\n",
    "plt.ylabel('Spending')\n",
    "\n",
    "# הצגת התווים המוגדרים בלולאה\n",
    "plt.legend()\n",
    "\n",
    "# הצגת הגרף\n",
    "plt.show()\n"
   ]
  },
  {
   "cell_type": "markdown",
   "id": "b5430892",
   "metadata": {},
   "source": [
    "הגרף הוא התפלגות הוצאות הצרכנים לפי קטגוריות שונות ביחס לקוד המדינה -  \n",
    "כל נקודה בגרף מייצגת ערך של קטגורית הוצאה מסוימת במדינה מסוימת.\n",
    "על פי הגרף, ניתן לראות את ההבדלים בהוצאות הצרכנים בין המדינות.\n",
    "\n",
    "הגרף משתמש בקנה מידה מסויים כדי להציג טווח רחב יותר של הערכים בציר ה-Y (הוצאות), וזאת משום שהערכים בקטגוריות השונות עשויים להיות בטווחים שונים ורחבים\n",
    "\n",
    "כל נקודה בגרף מייצגת את רמת הוצאות הממוצעת של קטגוריה מסוימת בכל מדינה. השימוש בקנה מידה מאפשר להבין את התפלגות ההוצאות בצורה יעילה, גם כאשר ישנם ערכים גבוהים או נמוכים יחסית.\n"
   ]
  },
  {
   "cell_type": "code",
   "execution_count": 175,
   "id": "0366e7d4",
   "metadata": {},
   "outputs": [
    {
     "data": {
      "image/png": "[encoded data removed]",
      "text/plain": [
       "<Figure size 576x864 with 1 Axes>"
      ]
     },
     "metadata": {
      "needs_background": "light"
     },
     "output_type": "display_data"
    }
   ],
   "source": [
    "import matplotlib.pyplot as plt\n",
    "\n",
    "plt.figure(figsize=(8, 12))\n",
    "\n",
    "# לולאה על כל אחת מהעמודות כדי להציג אותם בנפרד\n",
    "for column in ['Accommodation and food service (ACF) spending',\n",
    "               'Arts, entertainment, and recreation (AER)  spending',\n",
    "               'General merchandise stores (GEN) and apparel and accessories (AAP) spending',\n",
    "               'Grocery and food store (GRF)  spending',\n",
    "               'Health care and social assistance (HCS) spending',\n",
    "               'Transportation and warehousing (TWS)  spending']:\n",
    "    \n",
    "    # יצירת גרף פשוט שמראה כל עמודה ביחס ל-'State FIPS code'\n",
    "    plt.scatter(selected_columns_df['State FIPS code'], selected_columns_df[column], label=column)\n",
    "\n",
    "# הגדרת סוג הציר לוגריתמי\n",
    "plt.yscale('log')\n",
    "\n",
    "# הגדרת כותרת לגרף\n",
    "plt.title('Consumer Spending by Category')\n",
    "\n",
    "# הגדרת תווים לצירים\n",
    "plt.xlabel('State FIPS Code')\n",
    "plt.ylabel('Spending')\n",
    "\n",
    "# הצגת התווים המוגדרים בלולאה\n",
    "plt.legend()\n",
    "\n",
    "# הצגת הגרף\n",
    "plt.show()\n"
   ]
  },
  {
   "cell_type": "code",
   "execution_count": 176,
   "id": "f84eabb7",
   "metadata": {},
   "outputs": [
    {
     "name": "stdout",
     "output_type": "stream",
     "text": [
      "0         -2.3\n",
      "1       -0.213\n",
      "2       -0.561\n",
      "3       -0.381\n",
      "4        -1.85\n",
      "         ...  \n",
      "4835        30\n",
      "4836      33.4\n",
      "4837      39.5\n",
      "4838      28.2\n",
      "4839        26\n",
      "Name: All merchant category codes spending, Length: 4840, dtype: object\n"
     ]
    }
   ],
   "source": [
    "print(table['All merchant category codes spending'])\n"
   ]
  },
  {
   "cell_type": "code",
   "execution_count": 177,
   "id": "0880e6ce",
   "metadata": {},
   "outputs": [],
   "source": [
    "table['All merchant category codes spending'] = table['All merchant category codes spending'].astype(float)\n"
   ]
  },
  {
   "cell_type": "code",
   "execution_count": 178,
   "id": "6ecdd0a4",
   "metadata": {},
   "outputs": [
    {
     "name": "stdout",
     "output_type": "stream",
     "text": [
      "0   -2.300\n",
      "1   -0.213\n",
      "2   -0.561\n",
      "3   -0.381\n",
      "4   -1.850\n",
      "Name: All merchant category codes spending, dtype: float64\n"
     ]
    }
   ],
   "source": [
    "updated_table['All merchant category codes spending'] = updated_table['All merchant category codes spending'].astype(float)\n",
    "print(updated_table['All merchant category codes spending'].head())\n"
   ]
  },
  {
   "cell_type": "code",
   "execution_count": 179,
   "id": "04bbb789",
   "metadata": {},
   "outputs": [
    {
     "name": "stdout",
     "output_type": "stream",
     "text": [
      "Accuracy: 0.0\n"
     ]
    }
   ],
   "source": [
    "from sklearn.model_selection import train_test_split\n",
    "from sklearn.svm import SVC\n",
    "from sklearn.metrics import accuracy_score\n",
    "\n",
    "data = updated_table\n",
    "\n",
    "# בחירת העמודות הרלוונטיות ללמידת מכונה\n",
    "X = data[['State FIPS code']]\n",
    "y = data['Health care and social assistance (HCS) spending']\n",
    "\n",
    "# פילוח הנתונים לקבוצת אימון וקבוצת בדיקה\n",
    "X_train, X_test, y_train, y_test = train_test_split(X, y, test_size=0.2, random_state=42)\n",
    "\n",
    "# יצירת המודל ואימוןו על נתוני האימון\n",
    "model = SVC()\n",
    "model.fit(X_train, y_train)\n",
    "\n",
    "# הערכת הדיוק של המודל\n",
    "y_pred = model.predict(X_test)\n",
    "accuracy = accuracy_score(y_test, y_pred)\n",
    "print(\"Accuracy:\", accuracy)\n"
   ]
  },
  {
   "cell_type": "markdown",
   "id": "6a69d460",
   "metadata": {},
   "source": [
    "\n",
    "הדיוק (accuracy) של המודל שנוצר הוא כ-0.2%, מה שאומר שהמודל לא מצליח לזהות באופן יעיל את הקשר בין 'State FIPS Code' לעמודה של 'Health care and .social assistance (HCS) spending'.  תוצאה נמוכה מאוד היכולה להצביע על כך שהמודל לא יעיל בזיהוי הקשר בין המשתנים בנתונים האלה.\n"
   ]
  },
  {
   "cell_type": "code",
   "execution_count": 180,
   "id": "caa86990",
   "metadata": {},
   "outputs": [
    {
     "name": "stdout",
     "output_type": "stream",
     "text": [
      "Mean Squared Error: 767.6094822570531\n"
     ]
    }
   ],
   "source": [
    "from sklearn.model_selection import train_test_split\n",
    "from sklearn.linear_model import LinearRegression\n",
    "from sklearn.metrics import mean_squared_error\n",
    "\n",
    "# חלוקת הנתונים לקבוצת אימון ובדיקה\n",
    "X_train, X_test, y_train, y_test = train_test_split(updated_table[['State FIPS code']], updated_table['Health care and social assistance (HCS) spending'], test_size=0.2, random_state=42)\n",
    "\n",
    "# בניית המודל\n",
    "linear_reg_model = LinearRegression()\n",
    "\n",
    "# אימון המודל על נתוני האימון\n",
    "linear_reg_model.fit(X_train, y_train)\n",
    "\n",
    "# חיזוי עבור נתוני הבדיקה\n",
    "y_pred_linear_reg = linear_reg_model.predict(X_test)\n",
    "\n",
    "# מדידת שגיאת הריבוע הממוצעת (MSE)\n",
    "mse = mean_squared_error(y_test, y_pred_linear_reg)\n",
    "print(\"Mean Squared Error:\", mse)\n"
   ]
  },
  {
   "cell_type": "code",
   "execution_count": 181,
   "id": "6b0b9737",
   "metadata": {},
   "outputs": [
    {
     "name": "stdout",
     "output_type": "stream",
     "text": [
      "Mean Squared Error: 767.6094822570531\n"
     ]
    }
   ],
   "source": [
    "from sklearn.model_selection import train_test_split\n",
    "from sklearn.linear_model import LinearRegression\n",
    "from sklearn.metrics import mean_squared_error\n",
    "\n",
    "# חלוקת הנתונים לקבוצת אימון ובדיקה\n",
    "X_train, X_test, y_train, y_test = train_test_split(updated_table[['State FIPS code']], updated_table['Health care and social assistance (HCS) spending'], test_size=0.2, random_state=42)\n",
    "\n",
    "# בניית המודל\n",
    "linear_reg_model = LinearRegression()\n",
    "\n",
    "# אימון המודל על נתוני האימון\n",
    "linear_reg_model.fit(X_train, y_train)\n",
    "\n",
    "# חיזוי עבור נתוני הבדיקה\n",
    "y_pred_linear_reg = linear_reg_model.predict(X_test)\n",
    "\n",
    "# מדידת שגיאת הריבוע הממוצעת (MSE)\n",
    "mse = mean_squared_error(y_test, y_pred_linear_reg)\n",
    "print(\"Mean Squared Error:\", mse)\n"
   ]
  },
  {
   "cell_type": "code",
   "execution_count": null,
   "id": "34032f13",
   "metadata": {},
   "outputs": [],
   "source": []
  },
  {
   "cell_type": "code",
   "execution_count": 182,
   "id": "e167bfd5",
   "metadata": {},
   "outputs": [
    {
     "name": "stdout",
     "output_type": "stream",
     "text": [
      "Mean Squared Error: 796.3237460691594\n"
     ]
    }
   ],
   "source": [
    "import numpy as np\n",
    "from sklearn.linear_model import LinearRegression\n",
    "from sklearn.model_selection import train_test_split\n",
    "from sklearn.metrics import mean_squared_error\n",
    "\n",
    "# בחירת העמודות הרלוונטיות\n",
    "X = updated_table[['Health care and social assistance (HCS) spending']]\n",
    "y = updated_table['Arts, entertainment, and recreation (AER)  spending']\n",
    "# פילוח הנתונים לקבוצת אימון ובדיקה\n",
    "X_train, X_test, y_train, y_test = train_test_split(X, y, test_size=0.2, random_state=42)\n",
    "\n",
    "# יצירת המודל ואימוןו\n",
    "model = LinearRegression()\n",
    "model.fit(X_train, y_train)\n",
    "\n",
    "# חיזוי ערכים לקבוצת הבדיקה\n",
    "y_pred = model.predict(X_test)\n",
    "\n",
    "# חישוב שגיאת הריבוע הממוצעת\n",
    "mse = mean_squared_error(y_test, y_pred)\n",
    "print(\"Mean Squared Error:\", mse)\n"
   ]
  },
  {
   "cell_type": "code",
   "execution_count": null,
   "id": "6bdef967",
   "metadata": {},
   "outputs": [],
   "source": []
  },
  {
   "cell_type": "markdown",
   "id": "e5eaaecf",
   "metadata": {},
   "source": []
  },
  {
   "cell_type": "code",
   "execution_count": null,
   "id": "663a760f",
   "metadata": {},
   "outputs": [],
   "source": []
  },
  {
   "cell_type": "code",
   "execution_count": 183,
   "id": "4bb63a0d",
   "metadata": {},
   "outputs": [
    {
     "name": "stdout",
     "output_type": "stream",
     "text": [
      "Mean Squared Error: 1568.386642112661\n"
     ]
    }
   ],
   "source": [
    "import numpy as np\n",
    "from sklearn.linear_model import LinearRegression\n",
    "from sklearn.model_selection import train_test_split\n",
    "from sklearn.metrics import mean_squared_error\n",
    "\n",
    "# בחירת העמודות הרלוונטיות\n",
    "X = updated_table[['State FIPS code']]\n",
    "y = updated_table['Transportation and warehousing (TWS)  spending']\n",
    "\n",
    "# פילוח הנתונים לקבוצת אימון ובדיקה\n",
    "X_train, X_test, y_train, y_test = train_test_split(X, y, test_size=0.2, random_state=42)\n",
    "\n",
    "# יצירת המודל ואימוןו\n",
    "model = LinearRegression()\n",
    "model.fit(X_train, y_train)\n",
    "\n",
    "# חיזוי ערכים לקבוצת הבדיקה\n",
    "y_pred = model.predict(X_test)\n",
    "\n",
    "# חישוב שגיאת הריבוע הממוצעת\n",
    "mse = mean_squared_error(y_test, y_pred)\n",
    "print(\"Mean Squared Error:\", mse)\n"
   ]
  },
  {
   "cell_type": "code",
   "execution_count": 184,
   "id": "6345f173",
   "metadata": {},
   "outputs": [
    {
     "name": "stdout",
     "output_type": "stream",
     "text": [
      "Mean Squared Error: 0.9841361728438608\n"
     ]
    }
   ],
   "source": [
    "import numpy as np\n",
    "import pandas as pd\n",
    "from sklearn.linear_model import LinearRegression\n",
    "from sklearn.model_selection import train_test_split\n",
    "from sklearn.metrics import mean_squared_error\n",
    "\n",
    "# בחירת העמודות הרלוונטיות - כאן נבחר עמודת הוצאות בריאות ורווחה ועמודת קוד המדינה\n",
    "X = updated_table[['Health care and social assistance (HCS) spending']]\n",
    "y = updated_table['State FIPS code']\n",
    "\n",
    "X_train, X_test, y_train, y_test = train_test_split(X, y, test_size=0.2, random_state=42)\n",
    "\n",
    "model = LinearRegression()\n",
    "model.fit(X_train, y_train)\n",
    "\n",
    "y_pred = model.predict(X_test)\n",
    "\n",
    "# חישוב שגיאת הריבוע הממוצעת\n",
    "mse = mean_squared_error(y_test, y_pred)\n",
    "print(\"Mean Squared Error:\", mse)\n"
   ]
  },
  {
   "cell_type": "markdown",
   "id": "e0c019b7",
   "metadata": {},
   "source": [
    "ערך ה-MSE שקיבלנו הוא כ-0.96.\n",
    " ערך זה מייצג את המרחק הרבועי הממוצע שבין הערכים הניבויים על ידי המודל לבין הערכים האמיתיים בקבוצת הבדיקה.\n",
    "ערכים נמוכים של MSE מעידים לנו על טווח טוב יותר של החיזוי ככל שהוא נמוך יותר, כך החיזויים יתקרבו יותר לערכים האמיתיים.\n",
    "במקרה זה, ערך ה-MSE הוא נמוך, מה שמעיד על טווח צפוי טוב (יחסית) של החיזויים של המודל. מכך אפשר להסיק שהמודל עשוי להיות יעיל בחיזוי ערכי 'State FIPS code' בהתבסס על הוצאות בריאות ורווחה.\n"
   ]
  },
  {
   "cell_type": "code",
   "execution_count": 185,
   "id": "c9692e1f",
   "metadata": {},
   "outputs": [
    {
     "data": {
      "text/html": [
       "<div>\n",
       "<style scoped>\n",
       "    .dataframe tbody tr th:only-of-type {\n",
       "        vertical-align: middle;\n",
       "    }\n",
       "\n",
       "    .dataframe tbody tr th {\n",
       "        vertical-align: top;\n",
       "    }\n",
       "\n",
       "    .dataframe thead th {\n",
       "        text-align: right;\n",
       "    }\n",
       "</style>\n",
       "<table border=\"1\" class=\"dataframe\">\n",
       "  <thead>\n",
       "    <tr style=\"text-align: right;\">\n",
       "      <th></th>\n",
       "      <th>sid</th>\n",
       "      <th>id</th>\n",
       "      <th>State FIPS code</th>\n",
       "      <th>Date</th>\n",
       "      <th>All merchant category codes spending</th>\n",
       "      <th>Accommodation and food service (ACF) spending</th>\n",
       "      <th>Arts, entertainment, and recreation (AER)  spending</th>\n",
       "      <th>General merchandise stores (GEN) and apparel and accessories (AAP) spending</th>\n",
       "      <th>Grocery and food store (GRF)  spending</th>\n",
       "      <th>Health care and social assistance (HCS) spending</th>\n",
       "      <th>Transportation and warehousing (TWS)  spending</th>\n",
       "      <th>Retail spending including grocery</th>\n",
       "      <th>Retail spending excluding grocery</th>\n",
       "    </tr>\n",
       "  </thead>\n",
       "  <tbody>\n",
       "    <tr>\n",
       "      <th>0</th>\n",
       "      <td>row-ciyc~y7id.9i4a</td>\n",
       "      <td>00000000-0000-0000-DA9A-1C9EEDDBF433</td>\n",
       "      <td>-1.724653</td>\n",
       "      <td>2020-01-13T00:00:00</td>\n",
       "      <td>-2.300</td>\n",
       "      <td>-6.04</td>\n",
       "      <td>-12.3</td>\n",
       "      <td>-5.39</td>\n",
       "      <td>-3.47</td>\n",
       "      <td>-3.17</td>\n",
       "      <td>-2.55</td>\n",
       "      <td>-3.690</td>\n",
       "      <td>-3.690</td>\n",
       "    </tr>\n",
       "    <tr>\n",
       "      <th>1</th>\n",
       "      <td>row-nfj3~auck~q57i</td>\n",
       "      <td>00000000-0000-0000-70FF-80BCAFCCB173</td>\n",
       "      <td>-0.385117</td>\n",
       "      <td>2020-01-13T00:00:00</td>\n",
       "      <td>-0.213</td>\n",
       "      <td>-2.41</td>\n",
       "      <td>-14</td>\n",
       "      <td>-2.3</td>\n",
       "      <td>0.374</td>\n",
       "      <td>3.6</td>\n",
       "      <td>-1.73</td>\n",
       "      <td>0.253</td>\n",
       "      <td>0.253</td>\n",
       "    </tr>\n",
       "    <tr>\n",
       "      <th>2</th>\n",
       "      <td>row-4dr9_fusj_egpm</td>\n",
       "      <td>00000000-0000-0000-968C-DFD3F774A281</td>\n",
       "      <td>0.368372</td>\n",
       "      <td>2020-01-13T00:00:00</td>\n",
       "      <td>-0.561</td>\n",
       "      <td>-3.86</td>\n",
       "      <td>-11.6</td>\n",
       "      <td>0.653</td>\n",
       "      <td>-0.622</td>\n",
       "      <td>4.78</td>\n",
       "      <td>1.23</td>\n",
       "      <td>1.090</td>\n",
       "      <td>1.090</td>\n",
       "    </tr>\n",
       "    <tr>\n",
       "      <th>3</th>\n",
       "      <td>row-k5fv.fx2p-xfr2</td>\n",
       "      <td>00000000-0000-0000-AD0E-320FF7AA81C7</td>\n",
       "      <td>0.535814</td>\n",
       "      <td>2020-01-13T00:00:00</td>\n",
       "      <td>-0.381</td>\n",
       "      <td>-3.64</td>\n",
       "      <td>-13.9</td>\n",
       "      <td>-1.45</td>\n",
       "      <td>-0.891</td>\n",
       "      <td>7.92</td>\n",
       "      <td>-0.109</td>\n",
       "      <td>-0.281</td>\n",
       "      <td>-0.281</td>\n",
       "    </tr>\n",
       "    <tr>\n",
       "      <th>4</th>\n",
       "      <td>row-z9xh.3mh2_h5vh</td>\n",
       "      <td>00000000-0000-0000-6B20-41492957BC4C</td>\n",
       "      <td>1.205583</td>\n",
       "      <td>2020-01-13T00:00:00</td>\n",
       "      <td>-1.850</td>\n",
       "      <td>-15.00</td>\n",
       "      <td>-19.1</td>\n",
       "      <td>-5.96</td>\n",
       "      <td>-0.105</td>\n",
       "      <td>1.24</td>\n",
       "      <td>-31.2</td>\n",
       "      <td>-9.520</td>\n",
       "      <td>-9.520</td>\n",
       "    </tr>\n",
       "  </tbody>\n",
       "</table>\n",
       "</div>"
      ],
      "text/plain": [
       "                  sid                                    id  State FIPS code  \\\n",
       "0  row-ciyc~y7id.9i4a  00000000-0000-0000-DA9A-1C9EEDDBF433        -1.724653   \n",
       "1  row-nfj3~auck~q57i  00000000-0000-0000-70FF-80BCAFCCB173        -0.385117   \n",
       "2  row-4dr9_fusj_egpm  00000000-0000-0000-968C-DFD3F774A281         0.368372   \n",
       "3  row-k5fv.fx2p-xfr2  00000000-0000-0000-AD0E-320FF7AA81C7         0.535814   \n",
       "4  row-z9xh.3mh2_h5vh  00000000-0000-0000-6B20-41492957BC4C         1.205583   \n",
       "\n",
       "                  Date  All merchant category codes spending  \\\n",
       "0  2020-01-13T00:00:00                                -2.300   \n",
       "1  2020-01-13T00:00:00                                -0.213   \n",
       "2  2020-01-13T00:00:00                                -0.561   \n",
       "3  2020-01-13T00:00:00                                -0.381   \n",
       "4  2020-01-13T00:00:00                                -1.850   \n",
       "\n",
       "   Accommodation and food service (ACF) spending  \\\n",
       "0                                          -6.04   \n",
       "1                                          -2.41   \n",
       "2                                          -3.86   \n",
       "3                                          -3.64   \n",
       "4                                         -15.00   \n",
       "\n",
       "  Arts, entertainment, and recreation (AER)  spending  \\\n",
       "0                                              -12.3    \n",
       "1                                                -14    \n",
       "2                                              -11.6    \n",
       "3                                              -13.9    \n",
       "4                                              -19.1    \n",
       "\n",
       "  General merchandise stores (GEN) and apparel and accessories (AAP) spending  \\\n",
       "0                                              -5.39                            \n",
       "1                                               -2.3                            \n",
       "2                                              0.653                            \n",
       "3                                              -1.45                            \n",
       "4                                              -5.96                            \n",
       "\n",
       "  Grocery and food store (GRF)  spending  \\\n",
       "0                                  -3.47   \n",
       "1                                  0.374   \n",
       "2                                 -0.622   \n",
       "3                                 -0.891   \n",
       "4                                 -0.105   \n",
       "\n",
       "  Health care and social assistance (HCS) spending  \\\n",
       "0                                            -3.17   \n",
       "1                                              3.6   \n",
       "2                                             4.78   \n",
       "3                                             7.92   \n",
       "4                                             1.24   \n",
       "\n",
       "  Transportation and warehousing (TWS)  spending  \\\n",
       "0                                          -2.55   \n",
       "1                                          -1.73   \n",
       "2                                           1.23   \n",
       "3                                         -0.109   \n",
       "4                                          -31.2   \n",
       "\n",
       "   Retail spending including grocery  Retail spending excluding grocery  \n",
       "0                             -3.690                             -3.690  \n",
       "1                              0.253                              0.253  \n",
       "2                              1.090                              1.090  \n",
       "3                             -0.281                             -0.281  \n",
       "4                             -9.520                             -9.520  "
      ]
     },
     "execution_count": 185,
     "metadata": {},
     "output_type": "execute_result"
    }
   ],
   "source": [
    "updated_table.head()"
   ]
  },
  {
   "cell_type": "code",
   "execution_count": 186,
   "id": "fd8ebf5b",
   "metadata": {},
   "outputs": [
    {
     "name": "stdout",
     "output_type": "stream",
     "text": [
      "Mean Squared Error: 336.1072595114312\n"
     ]
    }
   ],
   "source": [
    "\n",
    "import numpy as np\n",
    "import pandas as pd\n",
    "from sklearn.linear_model import LinearRegression\n",
    "from sklearn.model_selection import train_test_split\n",
    "from sklearn.metrics import mean_squared_error\n",
    "\n",
    "#  בחירת העמודות הרלוונטיות - כאן נבחר עמודת הוצאות בריאות ורווחה ועמודת קוד המדינה\n",
    "X = updated_table[['State FIPS code']]\n",
    "y = updated_table['Retail spending excluding grocery']\n",
    "\n",
    "# פילוח הנתונים לקבוצת אימון ובדיקה\n",
    "X_train, X_test, y_train, y_test = train_test_split(X, y, test_size=0.2, random_state=42)\n",
    "\n",
    "# יצירת המודל ואימוןו\n",
    "model = LinearRegression()\n",
    "model.fit(X_train, y_train)\n",
    "\n",
    "# חיזוי ערכים לקבוצת הבדיקה\n",
    "y_pred = model.predict(X_test)\n",
    "\n",
    "# חישוב שגיאת הריבוע הממוצעת\n",
    "mse = mean_squared_error(y_test, y_pred)\n",
    "print(\"Mean Squared Error:\", mse)\n"
   ]
  },
  {
   "cell_type": "code",
   "execution_count": 187,
   "id": "a2ee54e1",
   "metadata": {},
   "outputs": [
    {
     "name": "stdout",
     "output_type": "stream",
     "text": [
      "<class 'pandas.core.frame.DataFrame'>\n",
      "Int64Index: 4840 entries, 0 to 4839\n",
      "Data columns (total 13 columns):\n",
      " #   Column                                                                       Non-Null Count  Dtype  \n",
      "---  ------                                                                       --------------  -----  \n",
      " 0   sid                                                                          4840 non-null   string \n",
      " 1   id                                                                           4840 non-null   string \n",
      " 2   State FIPS code                                                              4840 non-null   float64\n",
      " 3   Date                                                                         4840 non-null   object \n",
      " 4   All merchant category codes spending                                         4840 non-null   float64\n",
      " 5   Accommodation and food service (ACF) spending                                4840 non-null   float64\n",
      " 6   Arts, entertainment, and recreation (AER)  spending                          4840 non-null   object \n",
      " 7   General merchandise stores (GEN) and apparel and accessories (AAP) spending  4840 non-null   object \n",
      " 8   Grocery and food store (GRF)  spending                                       4840 non-null   object \n",
      " 9   Health care and social assistance (HCS) spending                             4840 non-null   object \n",
      " 10  Transportation and warehousing (TWS)  spending                               4840 non-null   object \n",
      " 11  Retail spending including grocery                                            4840 non-null   float64\n",
      " 12  Retail spending excluding grocery                                            4840 non-null   float64\n",
      "dtypes: float64(5), object(6), string(2)\n",
      "memory usage: 529.4+ KB\n",
      "None\n"
     ]
    }
   ],
   "source": [
    "print(updated_table.info())\n"
   ]
  },
  {
   "cell_type": "code",
   "execution_count": null,
   "id": "4564eab6",
   "metadata": {},
   "outputs": [],
   "source": []
  },
  {
   "cell_type": "code",
   "execution_count": 188,
   "id": "b0013f5a",
   "metadata": {},
   "outputs": [
    {
     "data": {
      "image/png": "[encoded data removed]",
      "text/plain": [
       "<Figure size 720x432 with 2 Axes>"
      ]
     },
     "metadata": {
      "needs_background": "light"
     },
     "output_type": "display_data"
    }
   ],
   "source": [
    "import seaborn as sns\n",
    "import matplotlib.pyplot as plt\n",
    "\n",
    "# בחירת עמודות רלוונטיות לחקירה\n",
    "relevant_columns = ['Health care and social assistance (HCS) spending', 'All merchant category codes spending']\n",
    "\n",
    "# יצירת מטריצת קורלציה\n",
    "correlation_matrix = updated_table[relevant_columns].corr()\n",
    "\n",
    "# יצירת תרשים חום של הקורלציה\n",
    "plt.figure(figsize=(10, 6))\n",
    "sns.heatmap(correlation_matrix, annot=True, cmap='coolwarm', fmt=\".2f\")\n",
    "plt.title('Correlation Heatmap between Health Care Spending and All Merchant Category Spending')\n",
    "plt.show()\n"
   ]
  },
  {
   "cell_type": "code",
   "execution_count": 189,
   "id": "740a68a2",
   "metadata": {},
   "outputs": [
    {
     "name": "stdout",
     "output_type": "stream",
     "text": [
      "Intercept: 0.003396907177719042\n",
      "Coefficient: [-0.00090835]\n",
      "Accuracy: -0.003940501067151603\n"
     ]
    },
    {
     "name": "stderr",
     "output_type": "stream",
     "text": [
      "C:\\Users\\rache\\AppData\\Local\\Temp/ipykernel_18600/1307973562.py:12: SettingWithCopyWarning: \n",
      "A value is trying to be set on a copy of a slice from a DataFrame.\n",
      "Try using .loc[row_indexer,col_indexer] = value instead\n",
      "\n",
      "See the caveats in the documentation: https://pandas.pydata.org/pandas-docs/stable/user_guide/indexing.html#returning-a-view-versus-a-copy\n",
      "  data['Health care and social assistance (HCS) spending'] = pd.to_numeric(data['Health care and social assistance (HCS) spending'], errors='coerce')\n",
      "c:\\users\\rache\\appdata\\local\\programs\\python\\python39\\lib\\site-packages\\pandas\\util\\_decorators.py:311: SettingWithCopyWarning: \n",
      "A value is trying to be set on a copy of a slice from a DataFrame\n",
      "\n",
      "See the caveats in the documentation: https://pandas.pydata.org/pandas-docs/stable/user_guide/indexing.html#returning-a-view-versus-a-copy\n",
      "  return func(*args, **kwargs)\n",
      "C:\\Users\\rache\\AppData\\Local\\Temp/ipykernel_18600/1307973562.py:18: SettingWithCopyWarning: \n",
      "A value is trying to be set on a copy of a slice from a DataFrame.\n",
      "Try using .loc[row_indexer,col_indexer] = value instead\n",
      "\n",
      "See the caveats in the documentation: https://pandas.pydata.org/pandas-docs/stable/user_guide/indexing.html#returning-a-view-versus-a-copy\n",
      "  data['State FIPS code'] = data['State FIPS code'].astype(int)\n"
     ]
    }
   ],
   "source": [
    "import pandas as pd\n",
    "from sklearn.linear_model import LinearRegression\n",
    "from sklearn.model_selection import train_test_split\n",
    "data = updated_table[['State FIPS code', 'Health care and social assistance (HCS) spending']]\n",
    "\n",
    "# הפיכת עמודת הסוגים המתאימה למספרים\n",
    "data['Health care and social assistance (HCS) spending'] = pd.to_numeric(data['Health care and social assistance (HCS) spending'], errors='coerce')\n",
    "\n",
    "# הסרת שורות עם ערכים חסרים\n",
    "data.dropna(inplace=True)\n",
    "\n",
    "# הפיכת ערכי ה-FIPS code לסוג של int\n",
    "data['State FIPS code'] = data['State FIPS code'].astype(int)\n",
    "\n",
    "# כאן נבחר עמודת הוצאות בריאות ורווחה ועמודת קוד המדינה\n",
    "X = data[['Health care and social assistance (HCS) spending']]\n",
    "y = data['State FIPS code']\n",
    "\n",
    "# פילוח הנתונים לקבוצת אימון ובדיקה\n",
    "X_train, X_test, y_train, y_test = train_test_split(X, y, test_size=0.2, random_state=42)\n",
    "\n",
    "# יצירת המודל ואימוןו\n",
    "model = LinearRegression()\n",
    "model.fit(X_train, y_train)\n",
    "\n",
    "print(\"Intercept:\", model.intercept_)\n",
    "print(\"Coefficient:\", model.coef_)\n",
    "\n",
    "# הערכת הדיוק של המודל\n",
    "accuracy = model.score(X_test, y_test)\n",
    "print(\"Accuracy:\", accuracy)\n"
   ]
  },
  {
   "cell_type": "markdown",
   "id": "14092d5f",
   "metadata": {},
   "source": [
    "\"Intercept\" מציין את הערך המשוער של המשתנה התלותי כאשר כל המשתנים האחרים במודל מופיעים בערכים הבסיסיים (0).\n",
    " \"Coefficient\" מציין את השינוי במשתנה התלותי עבור כל יחידת שינוי במשתנה העצמאי. \"Accuracy\" מציין את הדיוק של המודל, אך ערכים שלא נמצאים בטווח של -1 עד 1 ייחשבו כלא תקינים בהקשר זה.\n"
   ]
  },
  {
   "cell_type": "code",
   "execution_count": 190,
   "id": "f33d3e37",
   "metadata": {},
   "outputs": [
    {
     "data": {
      "image/png": "[encoded data removed]",
      "text/plain": [
       "<Figure size 432x288 with 1 Axes>"
      ]
     },
     "metadata": {
      "needs_background": "light"
     },
     "output_type": "display_data"
    }
   ],
   "source": [
    "import matplotlib.pyplot as plt\n",
    "\n",
    "# ציור הנקודות\n",
    "plt.scatter(X_test, y_test, color='blue', label='Actual data')\n",
    "\n",
    "# ציור קו ההתאמה\n",
    "plt.plot(X_test, model.predict(X_test), color='red', linewidth=3, label='Linear Regression')\n",
    "\n",
    "plt.title('Linear Regression')\n",
    "plt.xlabel('Healthcare and Social Assistance Spending')\n",
    "plt.ylabel('State FIPS code')\n",
    "plt.legend()\n",
    "plt.show()\n"
   ]
  },
  {
   "cell_type": "code",
   "execution_count": 191,
   "id": "51a1577a",
   "metadata": {},
   "outputs": [
    {
     "name": "stdout",
     "output_type": "stream",
     "text": [
      "<class 'pandas.core.frame.DataFrame'>\n",
      "Int64Index: 4840 entries, 0 to 4839\n",
      "Data columns (total 13 columns):\n",
      " #   Column                                                                       Non-Null Count  Dtype  \n",
      "---  ------                                                                       --------------  -----  \n",
      " 0   sid                                                                          4840 non-null   string \n",
      " 1   id                                                                           4840 non-null   string \n",
      " 2   State FIPS code                                                              4840 non-null   float64\n",
      " 3   Date                                                                         4840 non-null   object \n",
      " 4   All merchant category codes spending                                         4840 non-null   float64\n",
      " 5   Accommodation and food service (ACF) spending                                4840 non-null   float64\n",
      " 6   Arts, entertainment, and recreation (AER)  spending                          4840 non-null   object \n",
      " 7   General merchandise stores (GEN) and apparel and accessories (AAP) spending  4840 non-null   object \n",
      " 8   Grocery and food store (GRF)  spending                                       4840 non-null   object \n",
      " 9   Health care and social assistance (HCS) spending                             4840 non-null   object \n",
      " 10  Transportation and warehousing (TWS)  spending                               4840 non-null   object \n",
      " 11  Retail spending including grocery                                            4840 non-null   float64\n",
      " 12  Retail spending excluding grocery                                            4840 non-null   float64\n",
      "dtypes: float64(5), object(6), string(2)\n",
      "memory usage: 529.4+ KB\n",
      "None\n"
     ]
    }
   ],
   "source": [
    "print(updated_table.info())\n"
   ]
  },
  {
   "cell_type": "code",
   "execution_count": 218,
   "id": "2788381d",
   "metadata": {
    "scrolled": true
   },
   "outputs": [
    {
     "name": "stdout",
     "output_type": "stream",
     "text": [
      "Mean Squared Error: 108.67090179952714\n",
      "Root Mean Squared Error: 10.424533649018892\n",
      "R^2 Score: 0.8184114549465873\n"
     ]
    },
    {
     "data": {
      "image/png": "[encoded data removed]",
      "text/plain": [
       "<Figure size 432x288 with 1 Axes>"
      ]
     },
     "metadata": {
      "needs_background": "light"
     },
     "output_type": "display_data"
    }
   ],
   "source": [
    "import pandas as pd\n",
    "from sklearn.model_selection import train_test_split\n",
    "from sklearn.linear_model import LinearRegression\n",
    "from sklearn.metrics import mean_squared_error, r2_score\n",
    "import matplotlib.pyplot as plt\n",
    "\n",
    "X = updated_table[['All merchant category codes spending', 'Retail spending including grocery', 'Retail spending excluding grocery']]\n",
    "\n",
    "y = updated_table['Accommodation and food service (ACF) spending']\n",
    "\n",
    "# פילוח הנתונים לקבוצת אימון ובדיקה\n",
    "X_train, X_test, y_train, y_test = train_test_split(X, y, test_size=0.2, random_state=42)\n",
    "\n",
    "model = LinearRegression()\n",
    "model.fit(X_train, y_train)\n",
    "\n",
    "y_pred = model.predict(X_test)\n",
    "\n",
    "# חישוב שגיאת המודל\n",
    "mse = mean_squared_error(y_test, y_pred)\n",
    "rmse = mse ** 0.5\n",
    "r2 = r2_score(y_test, y_pred)\n",
    "\n",
    "print(\"Mean Squared Error:\", mse)\n",
    "print(\"Root Mean Squared Error:\", rmse)\n",
    "print(\"R^2 Score:\", r2)\n",
    "\n",
    "plt.scatter(y_test, y_pred, color='blue', label='Actual vs Predicted')\n",
    "\n",
    "# ציור קו ההתאמה הישר\n",
    "plt.plot([y_test.min(), y_test.max()], [y_test.min(), y_test.max()], color='red', linestyle='--', linewidth=2, label='Perfect Fit')\n",
    "\n",
    "plt.title('Actual vs Predicted')\n",
    "plt.xlabel('Actual')\n",
    "plt.ylabel('Predicted')\n",
    "plt.legend()\n",
    "plt.grid(True)\n",
    "plt.show()\n"
   ]
  },
  {
   "cell_type": "markdown",
   "id": "5da4da87",
   "metadata": {},
   "source": [
    "\n",
    "1.\tMean Squared Error (MSE - שגיאה ריבועית ממוצעת): ערך זה מציין את השגיאה הממוצעת שבין הערכים האמיתיים לבין הערכים שנחזיק על ידי המודל. במקרה שלך, ה-MSE הוא 108.48. ערך זה מציין שהשגיאה הממוצעת בין הערכים האמיתיים לבין החיזויים היא כ-10.415.\n",
    "2.\tRoot Mean Squared Error (RMSE - שגיאה ריבועית ממוצעת בריבוע): זהו השורש של ה-MSE ומשמש כמדד של השגיאה הממוצעת בין הערכים האמיתיים לבין החיזויים. במקרה זה, ה-RMSE הוא 10.415, מה שאומר שהשגיאה הממוצעת בין הערכים האמיתיים לבין החיזויים היא כ-10.415.\n",
    "3.\tR^2 Score (: זהו המדד שמציין כמה הנתונים מתארים את הדפוסים של הנתונים האמיתיים. בעזרתו ניתן להעריך כמה המודל הזה מתאר את הנתונים. במקרה שלי, ערך R^2 הוא 0.8209, שהוא גבוה מאוד. זה אומר שהמודל מצליח להסביר כ-82.09% מהשונות בנתונים, כלומר טוב לנו.\n",
    "\n",
    "\n"
   ]
  },
  {
   "cell_type": "markdown",
   "id": "2a50b051",
   "metadata": {},
   "source": [
    "הגרף מציג את הנקודות האמיתיות מהנתונים הבדיקה על הציר האופקי (x-axis) והערכים שנחזו על ידי המודל על הציר האנכי (y-axis). כל נקודה בגרף מייצגת זוג ערכים - הערך האמיתי מהנתונים הבדיקה והערך שנחזה על ידי המודל.\n",
    "\n",
    "הקו האדום המקווקו מייצג קו ההתאמה המושלם, כאשר עבור כל נקודה אמיתית על הציר האופקי, יש נקודה על הקו האדום עם אותה ערך על הציר האנכי.\n",
    "\n",
    "אם הנקודות נמצאות קרובות לקו האדום, זה מראה על דיוק גבוה של המודל. במקרה הזה, יש לנו התאמה טובה בין הערכים האמיתיים לבין הערכים שנחזו על ידי המודל."
   ]
  },
  {
   "cell_type": "code",
   "execution_count": null,
   "id": "14bae5b1",
   "metadata": {},
   "outputs": [],
   "source": []
  },
  {
   "cell_type": "code",
   "execution_count": 194,
   "id": "2310fcdb",
   "metadata": {},
   "outputs": [
    {
     "name": "stdout",
     "output_type": "stream",
     "text": [
      "Mean Squared Error: 200.35112017927233\n",
      "Root Mean Squared Error: 14.15454415300162\n",
      "R^2 Score: 0.6652142587323795\n"
     ]
    }
   ],
   "source": [
    "from sklearn.neural_network import MLPRegressor\n",
    "from sklearn.metrics import mean_squared_error, r2_score\n",
    "from sklearn.model_selection import train_test_split\n",
    "\n",
    "# בחירת משתנים מספריים\n",
    "X = updated_table[['Grocery and food store (GRF)  spending', 'Health care and social assistance (HCS) spending']]\n",
    "y = updated_table['Accommodation and food service (ACF) spending']\n",
    "\n",
    "# פילוח הנתונים לקבוצת אימון ובדיקה\n",
    "X_train, X_test, y_train, y_test = train_test_split(X, y, test_size=0.2, random_state=42)\n",
    "\n",
    "# יצירת המודל ואימוןו\n",
    "model = MLPRegressor(hidden_layer_sizes=(100, 50), activation='relu', solver='adam', max_iter=500)\n",
    "model.fit(X_train, y_train)\n",
    "\n",
    "# חיזוי ערכים לקבוצת הבדיקה\n",
    "y_pred = model.predict(X_test)\n",
    "\n",
    "# חישוב שגיאת המודל\n",
    "mse = mean_squared_error(y_test, y_pred)\n",
    "rmse = mse ** 0.5\n",
    "r2 = r2_score(y_test, y_pred)\n",
    "\n",
    "print(\"Mean Squared Error:\", mse)\n",
    "print(\"Root Mean Squared Error:\", rmse)\n",
    "print(\"R^2 Score:\", r2)\n"
   ]
  },
  {
   "cell_type": "markdown",
   "id": "477d8a4d",
   "metadata": {},
   "source": [
    "\n",
    "כלומר, ערכי ה- MSE וה- RMSE נמוכים, וערך ה- R^2 גבוה, מה שמציין שהמודל יכול להסביר בהצלחה את השונות בנתונים. עם זאת, יש לקחת בחשבון שתוצאות הבדיקה יכולות להשתנות בהתאם למאפייני הנתונים. לכן, חשוב לבצע ניסויים נוספים ולבדוק אם המודל הנל טוב לנתונים."
   ]
  },
  {
   "cell_type": "code",
   "execution_count": null,
   "id": "35c3a36b",
   "metadata": {},
   "outputs": [],
   "source": []
  },
  {
   "cell_type": "code",
   "execution_count": 195,
   "id": "92039798",
   "metadata": {},
   "outputs": [
    {
     "name": "stdout",
     "output_type": "stream",
     "text": [
      "                  sid                                    id  \\\n",
      "0  row-ciyc~y7id.9i4a  00000000-0000-0000-DA9A-1C9EEDDBF433   \n",
      "1  row-nfj3~auck~q57i  00000000-0000-0000-70FF-80BCAFCCB173   \n",
      "2  row-4dr9_fusj_egpm  00000000-0000-0000-968C-DFD3F774A281   \n",
      "3  row-k5fv.fx2p-xfr2  00000000-0000-0000-AD0E-320FF7AA81C7   \n",
      "4  row-z9xh.3mh2_h5vh  00000000-0000-0000-6B20-41492957BC4C   \n",
      "\n",
      "                  Date  All merchant category codes spending  \\\n",
      "0  2020-01-13T00:00:00                                -2.300   \n",
      "1  2020-01-13T00:00:00                                -0.213   \n",
      "2  2020-01-13T00:00:00                                -0.561   \n",
      "3  2020-01-13T00:00:00                                -0.381   \n",
      "4  2020-01-13T00:00:00                                -1.850   \n",
      "\n",
      "   Accommodation and food service (ACF) spending  \\\n",
      "0                                          -6.04   \n",
      "1                                          -2.41   \n",
      "2                                          -3.86   \n",
      "3                                          -3.64   \n",
      "4                                         -15.00   \n",
      "\n",
      "  Arts, entertainment, and recreation (AER)  spending  \\\n",
      "0                                              -12.3    \n",
      "1                                                -14    \n",
      "2                                              -11.6    \n",
      "3                                              -13.9    \n",
      "4                                              -19.1    \n",
      "\n",
      "  General merchandise stores (GEN) and apparel and accessories (AAP) spending  \\\n",
      "0                                              -5.39                            \n",
      "1                                               -2.3                            \n",
      "2                                              0.653                            \n",
      "3                                              -1.45                            \n",
      "4                                              -5.96                            \n",
      "\n",
      "  Grocery and food store (GRF)  spending  \\\n",
      "0                                  -3.47   \n",
      "1                                  0.374   \n",
      "2                                 -0.622   \n",
      "3                                 -0.891   \n",
      "4                                 -0.105   \n",
      "\n",
      "  Health care and social assistance (HCS) spending  \\\n",
      "0                                            -3.17   \n",
      "1                                              3.6   \n",
      "2                                             4.78   \n",
      "3                                             7.92   \n",
      "4                                             1.24   \n",
      "\n",
      "  Transportation and warehousing (TWS)  spending  \\\n",
      "0                                          -2.55   \n",
      "1                                          -1.73   \n",
      "2                                           1.23   \n",
      "3                                         -0.109   \n",
      "4                                          -31.2   \n",
      "\n",
      "   Retail spending including grocery  Retail spending excluding grocery  \\\n",
      "0                             -3.690                             -3.690   \n",
      "1                              0.253                              0.253   \n",
      "2                              1.090                              1.090   \n",
      "3                             -0.281                             -0.281   \n",
      "4                             -9.520                             -9.520   \n",
      "\n",
      "   State FIPS code_-0.38511665147560864  State FIPS code_0.3683724492375387  \\\n",
      "0                                     0                                   0   \n",
      "1                                     1                                   0   \n",
      "2                                     0                                   1   \n",
      "3                                     0                                   0   \n",
      "4                                     0                                   0   \n",
      "\n",
      "   State FIPS code_0.5358144716182381  State FIPS code_1.2055825611410358  \n",
      "0                                   0                                   0  \n",
      "1                                   0                                   0  \n",
      "2                                   0                                   0  \n",
      "3                                   1                                   0  \n",
      "4                                   0                                   1  \n"
     ]
    }
   ],
   "source": [
    "import pandas as pd\n",
    "\n",
    "# בצע המרה לעמודה קטגורית עם pd.get_dummies()\n",
    "updated_table_with_dummies = pd.get_dummies(updated_table, columns=['State FIPS code'], drop_first=True)\n",
    "\n",
    "# הדפס את הטבלה לאחר ההמרה\n",
    "print(updated_table_with_dummies.head())\n"
   ]
  },
  {
   "cell_type": "code",
   "execution_count": null,
   "id": "73c72734",
   "metadata": {},
   "outputs": [],
   "source": [
    "תחילת שלב ב'"
   ]
  },
  {
   "cell_type": "code",
   "execution_count": 196,
   "id": "dc30d16f",
   "metadata": {},
   "outputs": [
    {
     "name": "stdout",
     "output_type": "stream",
     "text": [
      "0    1716\n",
      "3    1405\n",
      "2    1172\n",
      "1     366\n",
      "4     181\n",
      "Name: cluster, dtype: int64\n",
      "                  sid                                    id  State FIPS code  \\\n",
      "0  row-ciyc~y7id.9i4a  00000000-0000-0000-DA9A-1C9EEDDBF433        -1.724653   \n",
      "1  row-nfj3~auck~q57i  00000000-0000-0000-70FF-80BCAFCCB173        -0.385117   \n",
      "2  row-4dr9_fusj_egpm  00000000-0000-0000-968C-DFD3F774A281         0.368372   \n",
      "3  row-k5fv.fx2p-xfr2  00000000-0000-0000-AD0E-320FF7AA81C7         0.535814   \n",
      "4  row-z9xh.3mh2_h5vh  00000000-0000-0000-6B20-41492957BC4C         1.205583   \n",
      "\n",
      "                  Date  All merchant category codes spending  \\\n",
      "0  2020-01-13T00:00:00                                -2.300   \n",
      "1  2020-01-13T00:00:00                                -0.213   \n",
      "2  2020-01-13T00:00:00                                -0.561   \n",
      "3  2020-01-13T00:00:00                                -0.381   \n",
      "4  2020-01-13T00:00:00                                -1.850   \n",
      "\n",
      "   Accommodation and food service (ACF) spending  \\\n",
      "0                                          -6.04   \n",
      "1                                          -2.41   \n",
      "2                                          -3.86   \n",
      "3                                          -3.64   \n",
      "4                                         -15.00   \n",
      "\n",
      "  Arts, entertainment, and recreation (AER)  spending  \\\n",
      "0                                              -12.3    \n",
      "1                                                -14    \n",
      "2                                              -11.6    \n",
      "3                                              -13.9    \n",
      "4                                              -19.1    \n",
      "\n",
      "  General merchandise stores (GEN) and apparel and accessories (AAP) spending  \\\n",
      "0                                              -5.39                            \n",
      "1                                               -2.3                            \n",
      "2                                              0.653                            \n",
      "3                                              -1.45                            \n",
      "4                                              -5.96                            \n",
      "\n",
      "  Grocery and food store (GRF)  spending  \\\n",
      "0                                  -3.47   \n",
      "1                                  0.374   \n",
      "2                                 -0.622   \n",
      "3                                 -0.891   \n",
      "4                                 -0.105   \n",
      "\n",
      "  Health care and social assistance (HCS) spending  \\\n",
      "0                                            -3.17   \n",
      "1                                              3.6   \n",
      "2                                             4.78   \n",
      "3                                             7.92   \n",
      "4                                             1.24   \n",
      "\n",
      "  Transportation and warehousing (TWS)  spending  \\\n",
      "0                                          -2.55   \n",
      "1                                          -1.73   \n",
      "2                                           1.23   \n",
      "3                                         -0.109   \n",
      "4                                          -31.2   \n",
      "\n",
      "   Retail spending including grocery  Retail spending excluding grocery  \\\n",
      "0                             -3.690                             -3.690   \n",
      "1                              0.253                              0.253   \n",
      "2                              1.090                              1.090   \n",
      "3                             -0.281                             -0.281   \n",
      "4                             -9.520                             -9.520   \n",
      "\n",
      "   cluster  \n",
      "0        3  \n",
      "1        3  \n",
      "2        3  \n",
      "3        3  \n",
      "4        3  \n"
     ]
    }
   ],
   "source": [
    "from sklearn.cluster import KMeans\n",
    "\n",
    "# יצירת מודל K-means עם 5 קבוצות\n",
    "kmeans = KMeans(n_clusters=5)\n",
    "kmeans.fit(updated_table[['All merchant category codes spending']])\n",
    "\n",
    "# הוספת תוויות לטבלה המקורית על פי הקבוצות שנמצאו\n",
    "updated_table['cluster'] = kmeans.labels_\n",
    "\n",
    "# הדפסת התוויות שנוצרו\n",
    "print(updated_table['cluster'].value_counts())\n",
    "\n",
    "# תצוגת התוצאות\n",
    "print(updated_table.head())\n"
   ]
  },
  {
   "cell_type": "markdown",
   "id": "c4ab8933",
   "metadata": {},
   "source": [
    "שלב ב'\n"
   ]
  },
  {
   "cell_type": "code",
   "execution_count": 197,
   "id": "62ef25c3",
   "metadata": {},
   "outputs": [
    {
     "data": {
      "image/png": "[encoded data removed]",
      "text/plain": [
       "<Figure size 432x288 with 2 Axes>"
      ]
     },
     "metadata": {
      "needs_background": "light"
     },
     "output_type": "display_data"
    },
    {
     "name": "stdout",
     "output_type": "stream",
     "text": [
      "3    1383\n",
      "4    1198\n",
      "0     948\n",
      "2     884\n",
      "1     427\n",
      "Name: cluster, dtype: int64\n"
     ]
    }
   ],
   "source": [
    "import pandas as pd\n",
    "from sklearn.cluster import KMeans\n",
    "import matplotlib.pyplot as plt\n",
    "\n",
    "#בחירת העמודות הרלוונטיות בשבילי\n",
    "X = updated_table[['All merchant category codes spending', 'Accommodation and food service (ACF) spending']]\n",
    "\n",
    "# בחירת מספר ה-clusters\n",
    "num_clusters = 5\n",
    "\n",
    "# יצירת מודל KMeans\n",
    "kmeans = KMeans(n_clusters=num_clusters)\n",
    "\n",
    "# אימון המודל\n",
    "kmeans.fit(X)\n",
    "\n",
    "# הקצאת קבוצות לנתונים\n",
    "updated_table['cluster'] = kmeans.predict(X)\n",
    "\n",
    "# תצוגה גרפית של ה-clusters\n",
    "plt.scatter(X.iloc[:, 0], X.iloc[:, 1], c=updated_table['cluster'], cmap='viridis')\n",
    "plt.xlabel('All merchant category codes spending')\n",
    "plt.ylabel('Accommodation and food service (ACF) spending')\n",
    "plt.title('Clustering of Consumers')\n",
    "plt.colorbar(label='Cluster')\n",
    "plt.show()\n",
    "\n",
    "# תצוגת סטטיסטיקות על ה-clusters\n",
    "cluster_counts = updated_table['cluster'].value_counts()\n",
    "print(cluster_counts)\n"
   ]
  },
  {
   "cell_type": "markdown",
   "id": "b8161b0f",
   "metadata": {},
   "source": [
    "ברגע שלוקחים בחשבון התנהגות צרכנים, (כמטרת הפרויקט), יש לנו צורך להבין איך הם מוציאים את הכסף שלהם (הוצאות בקטגוריות שונות) ובאילו סוגי מקומות הם מבצעים רכישות (קטגוריית אירוח ומזון). \n",
    "\n",
    "עמודות כמו 'All merchant category codes spending' מציינות את כמות הכסף שהצרכן מוציא בקטגוריה מסויימת, מה שיכול להעיד על העדפות הרכישה שלו. קטגוריית האירוח והמזון חשובה מאוד מבחינת התרשמות הצרכן ממקומות האירוח והאוכל, השירות, המחירים ועוד. לכן, ארצה לראות כיצד הצרכנים מפזרים את ההוצאות שלהם בין הקטגוריות השונות.\n",
    "\n",
    "בכך, בחירת העמודות 'All merchant category codes spending' ו-'Accommodation and food service (ACF) spending' מתאימה בצורה טבעית למטרה כדי להבין את התנהלותם של הצרכנים ואת השפעתם על החלטות הרכישה שלהם.\n"
   ]
  },
  {
   "cell_type": "code",
   "execution_count": null,
   "id": "3f9a3925",
   "metadata": {},
   "outputs": [],
   "source": []
  },
  {
   "cell_type": "code",
   "execution_count": 198,
   "id": "ab481f98",
   "metadata": {},
   "outputs": [
    {
     "data": {
      "image/png": "[encoded data removed]",
      "text/plain": [
       "<Figure size 432x288 with 2 Axes>"
      ]
     },
     "metadata": {
      "needs_background": "light"
     },
     "output_type": "display_data"
    },
    {
     "name": "stdout",
     "output_type": "stream",
     "text": [
      " 2     1781\n",
      " 3      858\n",
      " 32     581\n",
      " 4      361\n",
      " 1      259\n",
      " 33     240\n",
      " 0      236\n",
      "-1      122\n",
      " 8       38\n",
      " 15      34\n",
      " 35      25\n",
      " 36      23\n",
      " 9       23\n",
      " 28      20\n",
      " 12      20\n",
      " 34      18\n",
      " 5       16\n",
      " 26      16\n",
      " 11      14\n",
      " 14      13\n",
      " 31      11\n",
      " 18      11\n",
      " 20      11\n",
      " 24      10\n",
      " 13       9\n",
      " 27       8\n",
      " 6        8\n",
      " 37       8\n",
      " 19       8\n",
      " 29       8\n",
      " 21       7\n",
      " 23       6\n",
      " 7        6\n",
      " 30       6\n",
      " 17       5\n",
      " 16       5\n",
      " 22       5\n",
      " 25       5\n",
      " 10       5\n",
      "Name: cluster, dtype: int64\n"
     ]
    }
   ],
   "source": [
    "import pandas as pd\n",
    "from sklearn.cluster import DBSCAN\n",
    "import matplotlib.pyplot as plt\n",
    "\n",
    "# קריאת הנתונים\n",
    "\n",
    "# בחירת העמודות הרלוונטיות ל-clustering\n",
    "X = updated_table[['All merchant category codes spending', 'State FIPS code']]\n",
    "\n",
    "# אימון מודל DBSCAN\n",
    "dbscan = DBSCAN(eps=0.5, min_samples=5)  # ניתן להתאים את הפרמטרים eps ו-min_samples לפי הצורך\n",
    "clusters = dbscan.fit_predict(X)\n",
    "\n",
    "# הוספת התוויות של הקבוצות לטבלת הנתונים\n",
    "updated_table['cluster'] = clusters\n",
    "\n",
    "# תצוגה גרפית של ה-clusters\n",
    "plt.scatter(X.iloc[:, 0], X.iloc[:, 1], c=clusters, cmap='viridis')\n",
    "plt.xlabel('All merchant category codes spending')\n",
    "plt.ylabel('State FIPS code')\n",
    "plt.title('DBSCAN Clustering of Consumers')\n",
    "plt.colorbar(label='Cluster')\n",
    "plt.show()\n",
    "\n",
    "# תצוגת סטטיסטיקות על ה-clusters\n",
    "cluster_counts = updated_table['cluster'].value_counts()\n",
    "print(cluster_counts)\n"
   ]
  },
  {
   "cell_type": "markdown",
   "id": "6292cf14",
   "metadata": {},
   "source": [
    "המסקנה מהפלט היא שהנתונים נחלקים לקבוצות דומות בהתבסס על דפוסי התנהלותם של הצרכנים. הפלט מציג את מספר הצרכנים בכל קבוצה ואת המזהים של הקבוצות. לדוגמה, בפלט שצוין ישנן קבוצות שונות, כאשר בקבוצה הראשונה יש 1780 צרכנים, בקבוצה השנייה יש 857 צרכנים, וכן הלאה. המסקנה היא כי הנתונים מצביעים על התפלגות של הצרכנים לקבוצות שונות, כאשר כל קבוצה מייצגת דפוס שונה של התנהלות.\n",
    "המספרים השליליים (-1) מייצגים את הנקודות החריגות או את הנקודות שלא הצליחו להתקבץ לאף קבוצה.\n",
    ". זה יכול להיות בגלל שהן מרוחקות מהקבוצות הראשיות ואין להן דמות נכונה בין הנקודות האחרות, או שהן יכולות להיות נקודות אשר לא עברו בהצלחה את תהליך הקלסטרינג."
   ]
  },
  {
   "cell_type": "code",
   "execution_count": 221,
   "id": "ceb0ef84",
   "metadata": {},
   "outputs": [
    {
     "name": "stdout",
     "output_type": "stream",
     "text": [
      "Original shape: (4840, 3)\n",
      "Transformed shape: (4840, 2)\n"
     ]
    }
   ],
   "source": [
    "from sklearn.decomposition import PCA\n",
    "\n",
    "pca = PCA(n_components=2)\n",
    "\n",
    "X_pca = pca.fit_transform(X)\n",
    "\n",
    "print(\"Original shape:\", X.shape)\n",
    "print(\"Transformed shape:\", X_pca.shape)\n"
   ]
  },
  {
   "cell_type": "markdown",
   "id": "60d5343b",
   "metadata": {},
   "source": [
    "הקלה על ניתוח וחיזוי: על ידי עבודה עם ממדים נמוכים, החיזוי והניתוח של הנתונים יכולים להיות יותר יעילים ומהירים, מה שיכול לספק יתרונות כאשר ישנם כמויות גדולות של נתונים.\n",
    "\n"
   ]
  },
  {
   "cell_type": "markdown",
   "id": "1b2af7f7",
   "metadata": {},
   "source": [
    "שלב 3"
   ]
  },
  {
   "cell_type": "code",
   "execution_count": null,
   "id": "85c0b17f",
   "metadata": {},
   "outputs": [],
   "source": []
  },
  {
   "cell_type": "markdown",
   "id": "63d725ad",
   "metadata": {},
   "source": [
    "ההשואות"
   ]
  },
  {
   "cell_type": "code",
   "execution_count": 199,
   "id": "d664613d",
   "metadata": {},
   "outputs": [
    {
     "name": "stdout",
     "output_type": "stream",
     "text": [
      "Mean Squared Error: 108.5055181097945\n"
     ]
    }
   ],
   "source": [
    "import pandas as pd\n",
    "from sklearn.model_selection import train_test_split\n",
    "from sklearn.linear_model import LinearRegression\n",
    "from sklearn.metrics import mean_squared_error\n",
    "\n",
    "data = updated_table\n",
    "\n",
    "# פיצול הנתונים למשתנה תלמודה ולמשתנה מטרה\n",
    "# פיצול הנתונים למשתנה תלמודה ולמשתנה מטרה\n",
    "X = updated_table[[\"Retail spending excluding grocery\", \"Retail spending including grocery\", \"All merchant category codes spending\"]]\n",
    "y = updated_table[\"Accommodation and food service (ACF) spending\"]\n",
    "\n",
    "\n",
    "# פיצול הנתונים לקבוצת אימון וקבוצת בדיקה\n",
    "X_train, X_test, y_train, y_test = train_test_split(X, y, test_size=0.2, random_state=42)\n",
    "\n",
    "# יצירת המודל\n",
    "model = LinearRegression()\n",
    "\n",
    "# אימון המודל\n",
    "model.fit(X_train, y_train)\n",
    "\n",
    "# חיזוי עבור קבוצת הבדיקה\n",
    "y_pred = model.predict(X_test)\n",
    "\n",
    "# מדידת ביצועי המודל עם מדד רגרסי - Mean Squared Error\n",
    "mse = mean_squared_error(y_test, y_pred)\n",
    "\n",
    "# הדפסת תוצאת מדד השגיאה הריבועית הממוצעת\n",
    "print(\"Mean Squared Error:\", mse)\n"
   ]
  },
  {
   "cell_type": "markdown",
   "id": "b5f919b7",
   "metadata": {},
   "source": [
    "מה שאומר שהמודל מצליח לחזות את ערכי הנתונים בצורה יחסית טובה."
   ]
  },
  {
   "cell_type": "code",
   "execution_count": null,
   "id": "9ca91f11",
   "metadata": {},
   "outputs": [],
   "source": []
  },
  {
   "cell_type": "markdown",
   "id": "5a0937b7",
   "metadata": {},
   "source": [
    "מודל רגרסיה לינארית"
   ]
  },
  {
   "cell_type": "code",
   "execution_count": 200,
   "id": "21bde3a1",
   "metadata": {},
   "outputs": [
    {
     "name": "stdout",
     "output_type": "stream",
     "text": [
      "Mean Squared Error: 25.419871339261277\n",
      "Mean Absolute Error: 3.6816567352783447\n",
      "R-squared: 0.8922167650914915\n",
      "Root Mean Squared Error: 5.041812307024259\n"
     ]
    },
    {
     "data": {
      "image/png": "[encoded data removed]",
      "text/plain": [
       "<Figure size 720x432 with 1 Axes>"
      ]
     },
     "metadata": {
      "needs_background": "light"
     },
     "output_type": "display_data"
    },
    {
     "data": {
      "image/png": "[encoded data removed]",
      "text/plain": [
       "<Figure size 720x432 with 1 Axes>"
      ]
     },
     "metadata": {
      "needs_background": "light"
     },
     "output_type": "display_data"
    }
   ],
   "source": [
    "import pandas as pd\n",
    "from sklearn.model_selection import train_test_split\n",
    "from sklearn.linear_model import LinearRegression\n",
    "from sklearn.metrics import mean_squared_error, mean_absolute_error, r2_score\n",
    "import matplotlib.pyplot as plt\n",
    "\n",
    "data = updated_table\n",
    "\n",
    "# בחירת תכונות המשמשות כמשתני עצמים (features) לחיזוי\n",
    "X = data[[\"Retail spending excluding grocery\", \"Retail spending including grocery\", \"Accommodation and food service (ACF) spending\"]]\n",
    "\n",
    "# בחירת המשתנה לחיזוי\n",
    "y = data[\"All merchant category codes spending\"]\n",
    "\n",
    "# פיצול הנתונים לקבוצת אימון וקבוצת בדיקה\n",
    "X_train, X_test, y_train, y_test = train_test_split(X, y, test_size=0.2, random_state=42)\n",
    "\n",
    "# יצירת המודל\n",
    "model = LinearRegression()\n",
    "\n",
    "# אימון המודל\n",
    "model.fit(X_train, y_train)\n",
    "\n",
    "# חיזוי עבור קבוצת הבדיקה\n",
    "y_pred = model.predict(X_test)\n",
    "\n",
    "# מדידת ביצועי המודל עם מדדים רגרסיים\n",
    "mse_1 = mean_squared_error(y_test, y_pred)\n",
    "mae_1 = mean_absolute_error(y_test, y_pred)\n",
    "r_squared_1 = r2_score(y_test, y_pred)\n",
    "rmse_1 = mean_squared_error(y_test, y_pred, squared=False)\n",
    "\n",
    "\n",
    "\n",
    "\n",
    "print(\"Mean Squared Error:\", mse_1)\n",
    "print(\"Mean Absolute Error:\", mae_1)\n",
    "print(\"R-squared:\", r_squared_1)\n",
    "print(\"Root Mean Squared Error:\", rmse_1)\n",
    "\n",
    "# יצירת גרף עם הנקודות האמיתיות והנקודות הנחזות על ידי המודל\n",
    "plt.figure(figsize=(10, 6))\n",
    "plt.scatter(y_test, y_pred, color='blue')\n",
    "plt.plot([min(y_test), max(y_test)], [min(y_test), max(y_test)], color='red')  # הוספת קו המתאים\n",
    "plt.title('True values vs. Predicted values')\n",
    "plt.xlabel('True values')\n",
    "plt.ylabel('Predicted values')\n",
    "plt.show()\n",
    "\n",
    "\n",
    "\n",
    "\n",
    "\n",
    "# יצירת גרף\n",
    "plt.figure(figsize=(10, 6))\n",
    "\n",
    "metrics = ['MSE', 'MAE', 'R-squared', 'RMSE']\n",
    "values = [mse_1, mae_1, r_squared_1, rmse_1]\n",
    "plt.bar(metrics, values, color=['blue', 'green', 'red', 'orange'])\n",
    "\n",
    "plt.title('Performance Metrics')\n",
    "plt.xlabel('Metric')\n",
    "plt.ylabel('Value')\n",
    "\n",
    "plt.show()\n",
    "\n",
    "\n",
    "\n"
   ]
  },
  {
   "cell_type": "markdown",
   "id": "a8d24e0d",
   "metadata": {},
   "source": [
    "בסך הכל, הערכים הנ\"ל מציינים על ביצועים טובים של המודל, עם רקע סטטיסטי טוב (R-squared גבוה) ושגיאה ממוצעת נמוכה (MSE, MAE ו־RMSE)."
   ]
  },
  {
   "cell_type": "code",
   "execution_count": null,
   "id": "cff6c5b2",
   "metadata": {},
   "outputs": [],
   "source": []
  },
  {
   "cell_type": "markdown",
   "id": "e8a65f11",
   "metadata": {},
   "source": [
    "התוצאה למטה מייצגת את הנתונים במודל רשת נוירונים מלאה"
   ]
  },
  {
   "cell_type": "code",
   "execution_count": null,
   "id": "2c13e9f1",
   "metadata": {},
   "outputs": [],
   "source": []
  },
  {
   "cell_type": "code",
   "execution_count": null,
   "id": "1887de5b",
   "metadata": {},
   "outputs": [],
   "source": []
  },
  {
   "cell_type": "code",
   "execution_count": 215,
   "id": "85944294",
   "metadata": {},
   "outputs": [
    {
     "name": "stdout",
     "output_type": "stream",
     "text": [
      "Mean Squared Error: 22.880303243987306\n",
      "Mean Absolute Error: 3.4823484335137014\n",
      "R-squared: 0.9029848315748297\n",
      "Root Mean Squared Error: 4.783335995305714\n"
     ]
    },
    {
     "data": {
      "image/png": "[encoded data removed]",
      "text/plain": [
       "<Figure size 720x432 with 1 Axes>"
      ]
     },
     "metadata": {
      "needs_background": "light"
     },
     "output_type": "display_data"
    },
    {
     "data": {
      "image/png": "[encoded data removed]",
      "text/plain": [
       "<Figure size 720x432 with 1 Axes>"
      ]
     },
     "metadata": {
      "needs_background": "light"
     },
     "output_type": "display_data"
    }
   ],
   "source": [
    "import pandas as pd\n",
    "from sklearn.model_selection import train_test_split\n",
    "from sklearn.neural_network import MLPRegressor\n",
    "from sklearn.metrics import mean_squared_error, mean_absolute_error, r2_score\n",
    "import matplotlib.pyplot as plt\n",
    "\n",
    "data = updated_table\n",
    "\n",
    "# בחירת תכונות המשמשות כמשתני עצמים (features) לחיזוי\n",
    "X = data[[\"Retail spending excluding grocery\", \"Retail spending including grocery\", \"Accommodation and food service (ACF) spending\"]]\n",
    "\n",
    "# בחירת המשתנה התלותי לחיזוי\n",
    "y = data[\"All merchant category codes spending\"]\n",
    "\n",
    "# פיצול הנתונים לקבוצת אימון וקבוצת בדיקה\n",
    "X_train, X_test, y_train, y_test = train_test_split(X, y, test_size=0.2, random_state=42)\n",
    "\n",
    "# יצירת המודל\n",
    "model = MLPRegressor(hidden_layer_sizes=(100, 50), activation='relu', solver='adam', max_iter=500)\n",
    "\n",
    "# אימון המודל\n",
    "model.fit(X_train, y_train)\n",
    "\n",
    "# חיזוי עבור קבוצת הבדיקה\n",
    "y_pred = model.predict(X_test)\n",
    "\n",
    "# מדידת ביצועי המודל עם מדד רגרסי - Mean Squared Error\n",
    "mse_2 = mean_squared_error(y_test, y_pred)\n",
    "print(\"Mean Squared Error:\", mse_2)\n",
    "\n",
    "# חישוב Mean Absolute Error\n",
    "mae_2 = mean_absolute_error(y_test, y_pred)\n",
    "print(\"Mean Absolute Error:\", mae_2)\n",
    "\n",
    "# חישוב R-squared\n",
    "r_squared_2 = r2_score(y_test, y_pred)\n",
    "print(\"R-squared:\", r_squared_2)\n",
    "\n",
    "# חישוב Root Mean Squared Error\n",
    "rmse_2 = mean_squared_error(y_test, y_pred, squared=False)\n",
    "print(\"Root Mean Squared Error:\", rmse_2)\n",
    "\n",
    "# יצירת גרף עם הנקודות האמיתיות והנקודות הנחזות על ידי המודל\n",
    "plt.figure(figsize=(10, 6))\n",
    "plt.scatter(y_test, y_pred, color='blue')\n",
    "plt.plot([min(y_test), max(y_test)], [min(y_test), max(y_test)], color='red')  # הוספת קו המתאים\n",
    "plt.title('True values vs. Predicted values')\n",
    "plt.xlabel('True values')\n",
    "plt.ylabel('Predicted values')\n",
    "plt.show()\n",
    "\n",
    "# יצירת גרף\n",
    "plt.figure(figsize=(10, 6))\n",
    "\n",
    "metrics = ['MSE', 'MAE', 'R-squared', 'RMSE']\n",
    "values = [mse_2, mae_2, r_squared_2, rmse_2]\n",
    "plt.bar(metrics, values, color=['blue', 'green', 'red', 'orange'])\n",
    "\n",
    "plt.title('Performance Metrics')\n",
    "plt.xlabel('Metric')\n",
    "plt.ylabel('Value')\n",
    "\n",
    "plt.show()\n"
   ]
  },
  {
   "cell_type": "markdown",
   "id": "754eebb2",
   "metadata": {},
   "source": [
    "הקוד נועד לחיזוי ערכי הוצאות בקטגוריות שונות על ידי מודל רשת נוירונים. הוא משתמש בנתוני האימון והבדיקה כדי להעריך את ביצועי המודל. \n",
    "\n",
    "הגרף הראשון מציג את הערכים האמיתיים ביחס לערכים הנחזים על ידי המודל. אם המודל מנבא בצורה נכונה, הנקודות תהיינה סמוכות לקו האדום שמייצג חיזוי מושלם. \n",
    "\n",
    "הגרף השני מציג את ערכי מדדי הביצוע של המודל, כולל Mean Squared Error, Mean Absolute Error, R-squared, ו-Root Mean Squared Error. המדדים משמשים להערכת איכות החיזויים של המודל."
   ]
  },
  {
   "cell_type": "markdown",
   "id": "a82faf82",
   "metadata": {},
   "source": [
    "  התוצאה מייצגת את הנתונים במודל רגרסיה פולינומיאלית   "
   ]
  },
  {
   "cell_type": "code",
   "execution_count": null,
   "id": "5d47970a",
   "metadata": {},
   "outputs": [],
   "source": []
  },
  {
   "cell_type": "code",
   "execution_count": 210,
   "id": "76d410c2",
   "metadata": {},
   "outputs": [
    {
     "name": "stdout",
     "output_type": "stream",
     "text": [
      "Mean Squared Error: 23.941121936179382\n",
      "Mean Absolute Error: 3.567956312471979\n",
      "R-squared: 0.898486835941025\n",
      "Root Mean Squared Error: 4.89296657828146\n"
     ]
    },
    {
     "data": {
      "image/png": "[encoded data removed]",
      "text/plain": [
       "<Figure size 720x432 with 1 Axes>"
      ]
     },
     "metadata": {
      "needs_background": "light"
     },
     "output_type": "display_data"
    },
    {
     "data": {
      "image/png": "[encoded data removed]",
      "text/plain": [
       "<Figure size 720x432 with 1 Axes>"
      ]
     },
     "metadata": {
      "needs_background": "light"
     },
     "output_type": "display_data"
    }
   ],
   "source": [
    "import pandas as pd\n",
    "from sklearn.model_selection import train_test_split\n",
    "from sklearn.preprocessing import PolynomialFeatures\n",
    "from sklearn.linear_model import LinearRegression\n",
    "from sklearn.metrics import mean_squared_error, mean_absolute_error, r2_score\n",
    "import matplotlib.pyplot as plt\n",
    "\n",
    "data = updated_table\n",
    "\n",
    "# בחירת תכונות המשמשות כמשתני עצמים (features) לחיזוי\n",
    "X = data[[\"Retail spending excluding grocery\", \"Retail spending including grocery\", \"Accommodation and food service (ACF) spending\"]]\n",
    "\n",
    "# בחירת המשתנה התלותי (target) לחיזוי\n",
    "y = data[\"All merchant category codes spending\"]\n",
    "\n",
    "# פיצול הנתונים לקבוצת אימון וקבוצת בדיקה\n",
    "X_train, X_test, y_train, y_test = train_test_split(X, y, test_size=0.2, random_state=42)\n",
    "\n",
    "# הוספת פיצ'רים פולינומיאליים לנתונים\n",
    "poly = PolynomialFeatures(degree=2)\n",
    "X_train_poly = poly.fit_transform(X_train)\n",
    "X_test_poly = poly.transform(X_test)\n",
    "\n",
    "# יצירת המודל\n",
    "model = LinearRegression()\n",
    "\n",
    "# אימון המודל\n",
    "model.fit(X_train_poly, y_train)\n",
    "\n",
    "# חיזוי עבור קבוצת הבדיקה\n",
    "y_pred = model.predict(X_test_poly)\n",
    "\n",
    "# מדידת ביצועי המודל עם מדדים רגרסיים\n",
    "mse = mean_squared_error(y_test, y_pred)\n",
    "mae = mean_absolute_error(y_test, y_pred)\n",
    "r_squared = r2_score(y_test, y_pred)\n",
    "rmse = mean_squared_error(y_test, y_pred, squared=False)\n",
    "\n",
    "print(\"Mean Squared Error:\", mse)\n",
    "print(\"Mean Absolute Error:\", mae)\n",
    "print(\"R-squared:\", r_squared)\n",
    "print(\"Root Mean Squared Error:\", rmse)\n",
    "\n",
    "# יצירת גרף\n",
    "plt.figure(figsize=(10, 6))\n",
    "\n",
    "metrics = ['MSE', 'MAE', 'R-squared', 'RMSE']\n",
    "values = [mse, mae, r_squared, rmse]\n",
    "plt.bar(metrics, values, color=['blue', 'green', 'red', 'orange'])\n",
    "\n",
    "plt.title('Performance Metrics')\n",
    "plt.xlabel('Metric')\n",
    "plt.ylabel('Value')\n",
    "\n",
    "plt.show()\n",
    "\n",
    "# יצירת גרף עם הנקודות האמיתיות והנקודות הנחזות על ידי המודל\n",
    "plt.figure(figsize=(10, 6))\n",
    "plt.scatter(y_test, y_pred, color='blue')\n",
    "plt.plot([min(y_test), max(y_test)], [min(y_test), max(y_test)], color='red')  # הוספת קו המתאים\n",
    "plt.title('True values vs. Predicted values')\n",
    "plt.xlabel('True values')\n",
    "plt.ylabel('Predicted values')\n",
    "plt.show()\n"
   ]
  },
  {
   "cell_type": "code",
   "execution_count": null,
   "id": "e4c3b858",
   "metadata": {},
   "outputs": [],
   "source": []
  },
  {
   "cell_type": "markdown",
   "id": "4e83d08f",
   "metadata": {},
   "source": [
    "עץ החלטה"
   ]
  },
  {
   "cell_type": "code",
   "execution_count": null,
   "id": "0c7da224",
   "metadata": {},
   "outputs": [],
   "source": []
  },
  {
   "cell_type": "code",
   "execution_count": 212,
   "id": "47d76d28",
   "metadata": {},
   "outputs": [
    {
     "name": "stdout",
     "output_type": "stream",
     "text": [
      "Mean Squared Error1: 38.838658190723145\n",
      "Mean Absolute Error1: 4.3164842975206605\n",
      "R-squared1: 0.8353195355148626\n",
      "Root Mean Squared Error1: 6.232066927651142\n"
     ]
    },
    {
     "data": {
      "image/png": "[encoded data removed]",
      "text/plain": [
       "<Figure size 720x432 with 1 Axes>"
      ]
     },
     "metadata": {
      "needs_background": "light"
     },
     "output_type": "display_data"
    },
    {
     "data": {
      "image/png": "[encoded data removed]",
      "text/plain": [
       "<Figure size 720x432 with 1 Axes>"
      ]
     },
     "metadata": {
      "needs_background": "light"
     },
     "output_type": "display_data"
    }
   ],
   "source": [
    "import pandas as pd\n",
    "from sklearn.model_selection import train_test_split\n",
    "from sklearn.tree import DecisionTreeRegressor\n",
    "from sklearn.metrics import mean_squared_error, mean_absolute_error, r2_score\n",
    "import matplotlib.pyplot as plt\n",
    "\n",
    "data = updated_table\n",
    "\n",
    "# בחירת תכונות המשמשות כמשתני עצמים (features) לחיזוי\n",
    "X = data[[\"Retail spending excluding grocery\", \"Retail spending including grocery\", \"Accommodation and food service (ACF) spending\"]]\n",
    "\n",
    "# בחירת המשתנה התלותי (target) לחיזוי\n",
    "y = data[\"All merchant category codes spending\"]\n",
    "\n",
    "# פיצול הנתונים לקבוצת אימון וקבוצת בדיקה\n",
    "X_train, X_test, y_train, y_test = train_test_split(X, y, test_size=0.2, random_state=42)\n",
    "\n",
    "model = DecisionTreeRegressor()\n",
    "\n",
    "# אימון המודל\n",
    "model.fit(X_train, y_train)\n",
    "\n",
    "# חיזוי עבור קבוצת הבדיקה\n",
    "y_pred = model.predict(X_test)\n",
    "\n",
    "# מדידת ביצועי המודל עם מדד רגרסי - Mean Squared Error\n",
    "mse_4 = mean_squared_error(y_test, y_pred)\n",
    "print(\"Mean Squared Error1:\", mse_4)\n",
    "\n",
    "# חישוב Mean Absolute Error\n",
    "mae_4 = mean_absolute_error(y_test, y_pred)\n",
    "print(\"Mean Absolute Error1:\", mae_4)\n",
    "\n",
    "# חישוב R-squared\n",
    "r_squared_4 = r2_score(y_test, y_pred)\n",
    "print(\"R-squared1:\", r_squared_4)\n",
    "\n",
    "# חישוב Root Mean Squared Error\n",
    "rmse_4 = mean_squared_error(y_test, y_pred, squared=False)\n",
    "print(\"Root Mean Squared Error1:\", rmse_4)\n",
    "\n",
    "# יצירת גרף עם הנקודות האמיתיות והנקודות הנחזות על ידי המודל\n",
    "plt.figure(figsize=(10, 6))\n",
    "plt.scatter(y_test, y_pred, color='blue')\n",
    "plt.plot([min(y_test), max(y_test)], [min(y_test), max(y_test)], color='red')  # הוספת קו המתאים\n",
    "plt.title('True values vs. Predicted values')\n",
    "plt.xlabel('True values')\n",
    "plt.ylabel('Predicted values')\n",
    "plt.show()\n",
    "\n",
    "# יצירת גרף\n",
    "plt.figure(figsize=(10, 6))\n",
    "\n",
    "metrics = ['MSE', 'MAE', 'R-squared', 'RMSE']\n",
    "values = [mse_4, mae_4, r_squared_4, rmse_4]\n",
    "plt.bar(metrics, values, color=['blue', 'green', 'red', 'orange'])\n",
    "\n",
    "plt.title('Performance Metrics')\n",
    "plt.xlabel('Metric')\n",
    "plt.ylabel('Value')\n",
    "\n",
    "plt.show()\n"
   ]
  },
  {
   "cell_type": "code",
   "execution_count": 219,
   "id": "47d5ca10",
   "metadata": {},
   "outputs": [
    {
     "name": "stdout",
     "output_type": "stream",
     "text": [
      "                    Metric   Result 1   Result 2   Result 3   Result 4\n",
      "0       Mean Squared Error  25.419871  22.880303  23.941122  38.838658\n",
      "1      Mean Absolute Error   3.681657   3.482348   3.567956   4.316484\n",
      "2                R-squared   0.892217   0.902985   0.898487   0.835320\n",
      "3  Root Mean Squared Error   5.041812   4.783336   4.892967   6.232067\n"
     ]
    }
   ],
   "source": [
    "\n",
    "\n",
    "\n",
    "data = {\n",
    "    'Metric': ['Mean Squared Error', 'Mean Absolute Error', 'R-squared', 'Root Mean Squared Error'],\n",
    "    'Result 1': [mse_1, mae_1, r_squared_1, rmse_1],\n",
    "    'Result 2': [mse_2, mae_2, r_squared_2, rmse_2],\n",
    "    'Result 3': [mse_3, mae_3, r_squared_3, rmse_3],\n",
    "    'Result 4': [mse_4, mae_4, r_squared_4, rmse_4]\n",
    "}\n",
    "\n",
    "df = pd.DataFrame(data)\n",
    "\n",
    "print(df)\n"
   ]
  },
  {
   "cell_type": "code",
   "execution_count": null,
   "id": "72215ab9",
   "metadata": {},
   "outputs": [],
   "source": []
  },
  {
   "cell_type": "markdown",
   "id": "9050c991",
   "metadata": {},
   "source": [
    "מהתוצאות אפשר לראות:\n",
    "מתוך התוצאות של המדדים השונים:\n",
    "\n",
    "1.Mean Squared Error (MSE): הערכים הנמוכים ביותר הם הטובים ביותר. לכן, המודל הטוב ביותר הוא המודל שמקבל ערך נמוך ביותר ל-MSE. כאן, מודל 2 הוא המינימלי עם 22.894153.\n",
    "2.Mean Absolute Error (MAE): גם כאן, הערכים הנמוכים ביותר הם הטובים ביותר. מודל 2 הוא המינימלי עם 3.345378.\n",
    "3.R-squared: הערכים הגבוהים ביותר הם הטובים ביותר, כאשר 1 מציין התאמה מושלמת של המודל לנתונים.מודל 2 הוא המירבי עם 0.902926.\n",
    "4.Root Mean Squared Error (RMSE): כמו MSE, הערכים הנמוכים ביותר הם הטובים ביותר. מודל 2 הוא המינימלי עם 4.784783.\n",
    "\n",
    "לפיכך, מבחינת כל המדדים, מודל 2 הוא המודל הטוב ביותר לחיזוי."
   ]
  },
  {
   "cell_type": "code",
   "execution_count": null,
   "id": "303640d5",
   "metadata": {},
   "outputs": [],
   "source": []
  },
  {
   "cell_type": "code",
   "execution_count": null,
   "id": "c2d26aff",
   "metadata": {},
   "outputs": [],
   "source": []
  },
  {
   "cell_type": "code",
   "execution_count": null,
   "id": "3961318b",
   "metadata": {},
   "outputs": [],
   "source": []
  },
  {
   "cell_type": "code",
   "execution_count": null,
   "id": "5202933e",
   "metadata": {},
   "outputs": [],
   "source": []
  },
  {
   "cell_type": "code",
   "execution_count": null,
   "id": "73e8af1c",
   "metadata": {},
   "outputs": [],
   "source": []
  },
  {
   "cell_type": "code",
   "execution_count": null,
   "id": "78314d4e",
   "metadata": {},
   "outputs": [],
   "source": []
  },
  {
   "cell_type": "code",
   "execution_count": null,
   "id": "d624370f",
   "metadata": {},
   "outputs": [],
   "source": []
  },
  {
   "cell_type": "code",
   "execution_count": null,
   "id": "44461f1f",
   "metadata": {},
   "outputs": [],
   "source": []
  },
  {
   "cell_type": "code",
   "execution_count": null,
   "id": "c7e4fd40",
   "metadata": {},
   "outputs": [],
   "source": []
  },
  {
   "cell_type": "code",
   "execution_count": null,
   "id": "5ff78fc7",
   "metadata": {},
   "outputs": [],
   "source": []
  },
  {
   "cell_type": "code",
   "execution_count": null,
   "id": "92037ddf",
   "metadata": {},
   "outputs": [],
   "source": []
  },
  {
   "cell_type": "code",
   "execution_count": null,
   "id": "9b0055af",
   "metadata": {},
   "outputs": [],
   "source": []
  },
  {
   "cell_type": "code",
   "execution_count": null,
   "id": "e083d02e",
   "metadata": {},
   "outputs": [],
   "source": []
  },
  {
   "cell_type": "code",
   "execution_count": null,
   "id": "65a9b7de",
   "metadata": {},
   "outputs": [],
   "source": []
  },
  {
   "cell_type": "code",
   "execution_count": null,
   "id": "4c457938",
   "metadata": {},
   "outputs": [],
   "source": []
  },
  {
   "cell_type": "code",
   "execution_count": null,
   "id": "bfc85bee",
   "metadata": {},
   "outputs": [],
   "source": []
  },
  {
   "cell_type": "code",
   "execution_count": null,
   "id": "3ae9b960",
   "metadata": {},
   "outputs": [],
   "source": []
  },
  {
   "cell_type": "code",
   "execution_count": null,
   "id": "9282c978",
   "metadata": {},
   "outputs": [],
   "source": []
  }
 ],
 "metadata": {
  "kernelspec": {
   "display_name": "Python 3 (ipykernel)",
   "language": "python",
   "name": "python3"
  },
  "language_info": {
   "codemirror_mode": {
    "name": "ipython",
    "version": 3
   },
   "file_extension": ".py",
   "mimetype": "text/x-python",
   "name": "python",
   "nbconvert_exporter": "python",
   "pygments_lexer": "ipython3",
   "version": "3.9.6"
  }
 },
 "nbformat": 4,
 "nbformat_minor": 5
}
